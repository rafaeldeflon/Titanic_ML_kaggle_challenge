{
  "nbformat": 4,
  "nbformat_minor": 0,
  "metadata": {
    "colab": {
      "name": "Titanic.ipynb",
      "provenance": [],
      "authorship_tag": "ABX9TyNySalex0MFmFD7nFolxyk7",
      "include_colab_link": true
    },
    "kernelspec": {
      "name": "python3",
      "display_name": "Python 3"
    },
    "language_info": {
      "name": "python"
    }
  },
  "cells": [
    {
      "cell_type": "markdown",
      "metadata": {
        "id": "view-in-github",
        "colab_type": "text"
      },
      "source": [
        "<a href=\"https://colab.research.google.com/github/rafaeldeflon/Titanic_ML_kaggle_challenge/blob/main/Titanic.ipynb\" target=\"_parent\"><img src=\"https://colab.research.google.com/assets/colab-badge.svg\" alt=\"Open In Colab\"/></a>"
      ]
    },
    {
      "cell_type": "markdown",
      "source": [
        "# The Challenge \n"
      ],
      "metadata": {
        "id": "I4s5uEj3Ou3r"
      }
    },
    {
      "cell_type": "markdown",
      "source": [
        "## Importing the libraries and setting some initial settings"
      ],
      "metadata": {
        "id": "QRbRuPTjPYW3"
      }
    },
    {
      "cell_type": "code",
      "source": [
        "import pandas as pd\n",
        "import numpy as np\n",
        "import matplotlib.pyplot as plt\n",
        "import seaborn as sns"
      ],
      "metadata": {
        "id": "pnfBk-j4PRjz"
      },
      "execution_count": 97,
      "outputs": []
    },
    {
      "cell_type": "code",
      "source": [
        "pd.options.display.max_columns = None\n",
        "train = pd.read_csv('train.csv')\n",
        "test = pd.read_csv('test.csv')"
      ],
      "metadata": {
        "id": "wqkagR9hPVlN"
      },
      "execution_count": 98,
      "outputs": []
    },
    {
      "cell_type": "markdown",
      "source": [
        "## Getting to know the dataset"
      ],
      "metadata": {
        "id": "m8StCDw6Q0Oi"
      }
    },
    {
      "cell_type": "code",
      "source": [
        "print(\"Columns:\\t{}\\nRows:\\t{}\".format(train.shape[1], train.shape[0]))"
      ],
      "metadata": {
        "colab": {
          "base_uri": "https://localhost:8080/"
        },
        "id": "8NgCdASLQXYc",
        "outputId": "d96ee216-bd3f-4d1e-ac19-50d333e80dee"
      },
      "execution_count": 99,
      "outputs": [
        {
          "output_type": "stream",
          "name": "stdout",
          "text": [
            "Columns:\t12\n",
            "Rows:\t891\n"
          ]
        }
      ]
    },
    {
      "cell_type": "code",
      "source": [
        "display(train.dtypes)\n",
        "display(train.head(10))"
      ],
      "metadata": {
        "colab": {
          "base_uri": "https://localhost:8080/",
          "height": 603
        },
        "id": "iqz0-yJKRPLN",
        "outputId": "961e06b8-53b5-4608-9bd6-702da24881d1"
      },
      "execution_count": 100,
      "outputs": [
        {
          "output_type": "display_data",
          "data": {
            "text/plain": [
              "PassengerId      int64\n",
              "Survived         int64\n",
              "Pclass           int64\n",
              "Name            object\n",
              "Sex             object\n",
              "Age            float64\n",
              "SibSp            int64\n",
              "Parch            int64\n",
              "Ticket          object\n",
              "Fare           float64\n",
              "Cabin           object\n",
              "Embarked        object\n",
              "dtype: object"
            ]
          },
          "metadata": {}
        },
        {
          "output_type": "display_data",
          "data": {
            "text/plain": [
              "   PassengerId  Survived  Pclass  \\\n",
              "0            1         0       3   \n",
              "1            2         1       1   \n",
              "2            3         1       3   \n",
              "3            4         1       1   \n",
              "4            5         0       3   \n",
              "5            6         0       3   \n",
              "6            7         0       1   \n",
              "7            8         0       3   \n",
              "8            9         1       3   \n",
              "9           10         1       2   \n",
              "\n",
              "                                                Name     Sex   Age  SibSp  \\\n",
              "0                            Braund, Mr. Owen Harris    male  22.0      1   \n",
              "1  Cumings, Mrs. John Bradley (Florence Briggs Th...  female  38.0      1   \n",
              "2                             Heikkinen, Miss. Laina  female  26.0      0   \n",
              "3       Futrelle, Mrs. Jacques Heath (Lily May Peel)  female  35.0      1   \n",
              "4                           Allen, Mr. William Henry    male  35.0      0   \n",
              "5                                   Moran, Mr. James    male   NaN      0   \n",
              "6                            McCarthy, Mr. Timothy J    male  54.0      0   \n",
              "7                     Palsson, Master. Gosta Leonard    male   2.0      3   \n",
              "8  Johnson, Mrs. Oscar W (Elisabeth Vilhelmina Berg)  female  27.0      0   \n",
              "9                Nasser, Mrs. Nicholas (Adele Achem)  female  14.0      1   \n",
              "\n",
              "   Parch            Ticket     Fare Cabin Embarked  \n",
              "0      0         A/5 21171   7.2500   NaN        S  \n",
              "1      0          PC 17599  71.2833   C85        C  \n",
              "2      0  STON/O2. 3101282   7.9250   NaN        S  \n",
              "3      0            113803  53.1000  C123        S  \n",
              "4      0            373450   8.0500   NaN        S  \n",
              "5      0            330877   8.4583   NaN        Q  \n",
              "6      0             17463  51.8625   E46        S  \n",
              "7      1            349909  21.0750   NaN        S  \n",
              "8      2            347742  11.1333   NaN        S  \n",
              "9      0            237736  30.0708   NaN        C  "
            ],
            "text/html": [
              "\n",
              "  <div id=\"df-ac007449-a4e9-4f42-b95f-f102d281c086\">\n",
              "    <div class=\"colab-df-container\">\n",
              "      <div>\n",
              "<style scoped>\n",
              "    .dataframe tbody tr th:only-of-type {\n",
              "        vertical-align: middle;\n",
              "    }\n",
              "\n",
              "    .dataframe tbody tr th {\n",
              "        vertical-align: top;\n",
              "    }\n",
              "\n",
              "    .dataframe thead th {\n",
              "        text-align: right;\n",
              "    }\n",
              "</style>\n",
              "<table border=\"1\" class=\"dataframe\">\n",
              "  <thead>\n",
              "    <tr style=\"text-align: right;\">\n",
              "      <th></th>\n",
              "      <th>PassengerId</th>\n",
              "      <th>Survived</th>\n",
              "      <th>Pclass</th>\n",
              "      <th>Name</th>\n",
              "      <th>Sex</th>\n",
              "      <th>Age</th>\n",
              "      <th>SibSp</th>\n",
              "      <th>Parch</th>\n",
              "      <th>Ticket</th>\n",
              "      <th>Fare</th>\n",
              "      <th>Cabin</th>\n",
              "      <th>Embarked</th>\n",
              "    </tr>\n",
              "  </thead>\n",
              "  <tbody>\n",
              "    <tr>\n",
              "      <th>0</th>\n",
              "      <td>1</td>\n",
              "      <td>0</td>\n",
              "      <td>3</td>\n",
              "      <td>Braund, Mr. Owen Harris</td>\n",
              "      <td>male</td>\n",
              "      <td>22.0</td>\n",
              "      <td>1</td>\n",
              "      <td>0</td>\n",
              "      <td>A/5 21171</td>\n",
              "      <td>7.2500</td>\n",
              "      <td>NaN</td>\n",
              "      <td>S</td>\n",
              "    </tr>\n",
              "    <tr>\n",
              "      <th>1</th>\n",
              "      <td>2</td>\n",
              "      <td>1</td>\n",
              "      <td>1</td>\n",
              "      <td>Cumings, Mrs. John Bradley (Florence Briggs Th...</td>\n",
              "      <td>female</td>\n",
              "      <td>38.0</td>\n",
              "      <td>1</td>\n",
              "      <td>0</td>\n",
              "      <td>PC 17599</td>\n",
              "      <td>71.2833</td>\n",
              "      <td>C85</td>\n",
              "      <td>C</td>\n",
              "    </tr>\n",
              "    <tr>\n",
              "      <th>2</th>\n",
              "      <td>3</td>\n",
              "      <td>1</td>\n",
              "      <td>3</td>\n",
              "      <td>Heikkinen, Miss. Laina</td>\n",
              "      <td>female</td>\n",
              "      <td>26.0</td>\n",
              "      <td>0</td>\n",
              "      <td>0</td>\n",
              "      <td>STON/O2. 3101282</td>\n",
              "      <td>7.9250</td>\n",
              "      <td>NaN</td>\n",
              "      <td>S</td>\n",
              "    </tr>\n",
              "    <tr>\n",
              "      <th>3</th>\n",
              "      <td>4</td>\n",
              "      <td>1</td>\n",
              "      <td>1</td>\n",
              "      <td>Futrelle, Mrs. Jacques Heath (Lily May Peel)</td>\n",
              "      <td>female</td>\n",
              "      <td>35.0</td>\n",
              "      <td>1</td>\n",
              "      <td>0</td>\n",
              "      <td>113803</td>\n",
              "      <td>53.1000</td>\n",
              "      <td>C123</td>\n",
              "      <td>S</td>\n",
              "    </tr>\n",
              "    <tr>\n",
              "      <th>4</th>\n",
              "      <td>5</td>\n",
              "      <td>0</td>\n",
              "      <td>3</td>\n",
              "      <td>Allen, Mr. William Henry</td>\n",
              "      <td>male</td>\n",
              "      <td>35.0</td>\n",
              "      <td>0</td>\n",
              "      <td>0</td>\n",
              "      <td>373450</td>\n",
              "      <td>8.0500</td>\n",
              "      <td>NaN</td>\n",
              "      <td>S</td>\n",
              "    </tr>\n",
              "    <tr>\n",
              "      <th>5</th>\n",
              "      <td>6</td>\n",
              "      <td>0</td>\n",
              "      <td>3</td>\n",
              "      <td>Moran, Mr. James</td>\n",
              "      <td>male</td>\n",
              "      <td>NaN</td>\n",
              "      <td>0</td>\n",
              "      <td>0</td>\n",
              "      <td>330877</td>\n",
              "      <td>8.4583</td>\n",
              "      <td>NaN</td>\n",
              "      <td>Q</td>\n",
              "    </tr>\n",
              "    <tr>\n",
              "      <th>6</th>\n",
              "      <td>7</td>\n",
              "      <td>0</td>\n",
              "      <td>1</td>\n",
              "      <td>McCarthy, Mr. Timothy J</td>\n",
              "      <td>male</td>\n",
              "      <td>54.0</td>\n",
              "      <td>0</td>\n",
              "      <td>0</td>\n",
              "      <td>17463</td>\n",
              "      <td>51.8625</td>\n",
              "      <td>E46</td>\n",
              "      <td>S</td>\n",
              "    </tr>\n",
              "    <tr>\n",
              "      <th>7</th>\n",
              "      <td>8</td>\n",
              "      <td>0</td>\n",
              "      <td>3</td>\n",
              "      <td>Palsson, Master. Gosta Leonard</td>\n",
              "      <td>male</td>\n",
              "      <td>2.0</td>\n",
              "      <td>3</td>\n",
              "      <td>1</td>\n",
              "      <td>349909</td>\n",
              "      <td>21.0750</td>\n",
              "      <td>NaN</td>\n",
              "      <td>S</td>\n",
              "    </tr>\n",
              "    <tr>\n",
              "      <th>8</th>\n",
              "      <td>9</td>\n",
              "      <td>1</td>\n",
              "      <td>3</td>\n",
              "      <td>Johnson, Mrs. Oscar W (Elisabeth Vilhelmina Berg)</td>\n",
              "      <td>female</td>\n",
              "      <td>27.0</td>\n",
              "      <td>0</td>\n",
              "      <td>2</td>\n",
              "      <td>347742</td>\n",
              "      <td>11.1333</td>\n",
              "      <td>NaN</td>\n",
              "      <td>S</td>\n",
              "    </tr>\n",
              "    <tr>\n",
              "      <th>9</th>\n",
              "      <td>10</td>\n",
              "      <td>1</td>\n",
              "      <td>2</td>\n",
              "      <td>Nasser, Mrs. Nicholas (Adele Achem)</td>\n",
              "      <td>female</td>\n",
              "      <td>14.0</td>\n",
              "      <td>1</td>\n",
              "      <td>0</td>\n",
              "      <td>237736</td>\n",
              "      <td>30.0708</td>\n",
              "      <td>NaN</td>\n",
              "      <td>C</td>\n",
              "    </tr>\n",
              "  </tbody>\n",
              "</table>\n",
              "</div>\n",
              "      <button class=\"colab-df-convert\" onclick=\"convertToInteractive('df-ac007449-a4e9-4f42-b95f-f102d281c086')\"\n",
              "              title=\"Convert this dataframe to an interactive table.\"\n",
              "              style=\"display:none;\">\n",
              "        \n",
              "  <svg xmlns=\"http://www.w3.org/2000/svg\" height=\"24px\"viewBox=\"0 0 24 24\"\n",
              "       width=\"24px\">\n",
              "    <path d=\"M0 0h24v24H0V0z\" fill=\"none\"/>\n",
              "    <path d=\"M18.56 5.44l.94 2.06.94-2.06 2.06-.94-2.06-.94-.94-2.06-.94 2.06-2.06.94zm-11 1L8.5 8.5l.94-2.06 2.06-.94-2.06-.94L8.5 2.5l-.94 2.06-2.06.94zm10 10l.94 2.06.94-2.06 2.06-.94-2.06-.94-.94-2.06-.94 2.06-2.06.94z\"/><path d=\"M17.41 7.96l-1.37-1.37c-.4-.4-.92-.59-1.43-.59-.52 0-1.04.2-1.43.59L10.3 9.45l-7.72 7.72c-.78.78-.78 2.05 0 2.83L4 21.41c.39.39.9.59 1.41.59.51 0 1.02-.2 1.41-.59l7.78-7.78 2.81-2.81c.8-.78.8-2.07 0-2.86zM5.41 20L4 18.59l7.72-7.72 1.47 1.35L5.41 20z\"/>\n",
              "  </svg>\n",
              "      </button>\n",
              "      \n",
              "  <style>\n",
              "    .colab-df-container {\n",
              "      display:flex;\n",
              "      flex-wrap:wrap;\n",
              "      gap: 12px;\n",
              "    }\n",
              "\n",
              "    .colab-df-convert {\n",
              "      background-color: #E8F0FE;\n",
              "      border: none;\n",
              "      border-radius: 50%;\n",
              "      cursor: pointer;\n",
              "      display: none;\n",
              "      fill: #1967D2;\n",
              "      height: 32px;\n",
              "      padding: 0 0 0 0;\n",
              "      width: 32px;\n",
              "    }\n",
              "\n",
              "    .colab-df-convert:hover {\n",
              "      background-color: #E2EBFA;\n",
              "      box-shadow: 0px 1px 2px rgba(60, 64, 67, 0.3), 0px 1px 3px 1px rgba(60, 64, 67, 0.15);\n",
              "      fill: #174EA6;\n",
              "    }\n",
              "\n",
              "    [theme=dark] .colab-df-convert {\n",
              "      background-color: #3B4455;\n",
              "      fill: #D2E3FC;\n",
              "    }\n",
              "\n",
              "    [theme=dark] .colab-df-convert:hover {\n",
              "      background-color: #434B5C;\n",
              "      box-shadow: 0px 1px 3px 1px rgba(0, 0, 0, 0.15);\n",
              "      filter: drop-shadow(0px 1px 2px rgba(0, 0, 0, 0.3));\n",
              "      fill: #FFFFFF;\n",
              "    }\n",
              "  </style>\n",
              "\n",
              "      <script>\n",
              "        const buttonEl =\n",
              "          document.querySelector('#df-ac007449-a4e9-4f42-b95f-f102d281c086 button.colab-df-convert');\n",
              "        buttonEl.style.display =\n",
              "          google.colab.kernel.accessAllowed ? 'block' : 'none';\n",
              "\n",
              "        async function convertToInteractive(key) {\n",
              "          const element = document.querySelector('#df-ac007449-a4e9-4f42-b95f-f102d281c086');\n",
              "          const dataTable =\n",
              "            await google.colab.kernel.invokeFunction('convertToInteractive',\n",
              "                                                     [key], {});\n",
              "          if (!dataTable) return;\n",
              "\n",
              "          const docLinkHtml = 'Like what you see? Visit the ' +\n",
              "            '<a target=\"_blank\" href=https://colab.research.google.com/notebooks/data_table.ipynb>data table notebook</a>'\n",
              "            + ' to learn more about interactive tables.';\n",
              "          element.innerHTML = '';\n",
              "          dataTable['output_type'] = 'display_data';\n",
              "          await google.colab.output.renderOutput(dataTable, element);\n",
              "          const docLink = document.createElement('div');\n",
              "          docLink.innerHTML = docLinkHtml;\n",
              "          element.appendChild(docLink);\n",
              "        }\n",
              "      </script>\n",
              "    </div>\n",
              "  </div>\n",
              "  "
            ]
          },
          "metadata": {}
        }
      ]
    },
    {
      "cell_type": "code",
      "source": [
        "# How much data is missing per column? (%)\n",
        "\n",
        "(train.isnull().sum() / train.shape[0]).sort_values(ascending=False)"
      ],
      "metadata": {
        "colab": {
          "base_uri": "https://localhost:8080/"
        },
        "id": "tcIMMldjRcvo",
        "outputId": "22e2101b-e174-4bff-9c21-713c4faa8a19"
      },
      "execution_count": 101,
      "outputs": [
        {
          "output_type": "execute_result",
          "data": {
            "text/plain": [
              "Cabin          0.771044\n",
              "Age            0.198653\n",
              "Embarked       0.002245\n",
              "PassengerId    0.000000\n",
              "Survived       0.000000\n",
              "Pclass         0.000000\n",
              "Name           0.000000\n",
              "Sex            0.000000\n",
              "SibSp          0.000000\n",
              "Parch          0.000000\n",
              "Ticket         0.000000\n",
              "Fare           0.000000\n",
              "dtype: float64"
            ]
          },
          "metadata": {},
          "execution_count": 101
        }
      ]
    },
    {
      "cell_type": "markdown",
      "source": [
        "## Getting to know the dataset statistically"
      ],
      "metadata": {
        "id": "eTNzRqmJkyo1"
      }
    },
    {
      "cell_type": "code",
      "source": [
        "# Getting the statistical parameters\n",
        "\n",
        "train.describe()"
      ],
      "metadata": {
        "colab": {
          "base_uri": "https://localhost:8080/",
          "height": 300
        },
        "id": "-8UMNqEWSlvx",
        "outputId": "6114e91f-9897-4e48-aa95-735f1c310c4e"
      },
      "execution_count": 102,
      "outputs": [
        {
          "output_type": "execute_result",
          "data": {
            "text/plain": [
              "       PassengerId    Survived      Pclass         Age       SibSp  \\\n",
              "count   891.000000  891.000000  891.000000  714.000000  891.000000   \n",
              "mean    446.000000    0.383838    2.308642   29.699118    0.523008   \n",
              "std     257.353842    0.486592    0.836071   14.526497    1.102743   \n",
              "min       1.000000    0.000000    1.000000    0.420000    0.000000   \n",
              "25%     223.500000    0.000000    2.000000   20.125000    0.000000   \n",
              "50%     446.000000    0.000000    3.000000   28.000000    0.000000   \n",
              "75%     668.500000    1.000000    3.000000   38.000000    1.000000   \n",
              "max     891.000000    1.000000    3.000000   80.000000    8.000000   \n",
              "\n",
              "            Parch        Fare  \n",
              "count  891.000000  891.000000  \n",
              "mean     0.381594   32.204208  \n",
              "std      0.806057   49.693429  \n",
              "min      0.000000    0.000000  \n",
              "25%      0.000000    7.910400  \n",
              "50%      0.000000   14.454200  \n",
              "75%      0.000000   31.000000  \n",
              "max      6.000000  512.329200  "
            ],
            "text/html": [
              "\n",
              "  <div id=\"df-35263258-4185-41fe-85bc-e9e70ef323d4\">\n",
              "    <div class=\"colab-df-container\">\n",
              "      <div>\n",
              "<style scoped>\n",
              "    .dataframe tbody tr th:only-of-type {\n",
              "        vertical-align: middle;\n",
              "    }\n",
              "\n",
              "    .dataframe tbody tr th {\n",
              "        vertical-align: top;\n",
              "    }\n",
              "\n",
              "    .dataframe thead th {\n",
              "        text-align: right;\n",
              "    }\n",
              "</style>\n",
              "<table border=\"1\" class=\"dataframe\">\n",
              "  <thead>\n",
              "    <tr style=\"text-align: right;\">\n",
              "      <th></th>\n",
              "      <th>PassengerId</th>\n",
              "      <th>Survived</th>\n",
              "      <th>Pclass</th>\n",
              "      <th>Age</th>\n",
              "      <th>SibSp</th>\n",
              "      <th>Parch</th>\n",
              "      <th>Fare</th>\n",
              "    </tr>\n",
              "  </thead>\n",
              "  <tbody>\n",
              "    <tr>\n",
              "      <th>count</th>\n",
              "      <td>891.000000</td>\n",
              "      <td>891.000000</td>\n",
              "      <td>891.000000</td>\n",
              "      <td>714.000000</td>\n",
              "      <td>891.000000</td>\n",
              "      <td>891.000000</td>\n",
              "      <td>891.000000</td>\n",
              "    </tr>\n",
              "    <tr>\n",
              "      <th>mean</th>\n",
              "      <td>446.000000</td>\n",
              "      <td>0.383838</td>\n",
              "      <td>2.308642</td>\n",
              "      <td>29.699118</td>\n",
              "      <td>0.523008</td>\n",
              "      <td>0.381594</td>\n",
              "      <td>32.204208</td>\n",
              "    </tr>\n",
              "    <tr>\n",
              "      <th>std</th>\n",
              "      <td>257.353842</td>\n",
              "      <td>0.486592</td>\n",
              "      <td>0.836071</td>\n",
              "      <td>14.526497</td>\n",
              "      <td>1.102743</td>\n",
              "      <td>0.806057</td>\n",
              "      <td>49.693429</td>\n",
              "    </tr>\n",
              "    <tr>\n",
              "      <th>min</th>\n",
              "      <td>1.000000</td>\n",
              "      <td>0.000000</td>\n",
              "      <td>1.000000</td>\n",
              "      <td>0.420000</td>\n",
              "      <td>0.000000</td>\n",
              "      <td>0.000000</td>\n",
              "      <td>0.000000</td>\n",
              "    </tr>\n",
              "    <tr>\n",
              "      <th>25%</th>\n",
              "      <td>223.500000</td>\n",
              "      <td>0.000000</td>\n",
              "      <td>2.000000</td>\n",
              "      <td>20.125000</td>\n",
              "      <td>0.000000</td>\n",
              "      <td>0.000000</td>\n",
              "      <td>7.910400</td>\n",
              "    </tr>\n",
              "    <tr>\n",
              "      <th>50%</th>\n",
              "      <td>446.000000</td>\n",
              "      <td>0.000000</td>\n",
              "      <td>3.000000</td>\n",
              "      <td>28.000000</td>\n",
              "      <td>0.000000</td>\n",
              "      <td>0.000000</td>\n",
              "      <td>14.454200</td>\n",
              "    </tr>\n",
              "    <tr>\n",
              "      <th>75%</th>\n",
              "      <td>668.500000</td>\n",
              "      <td>1.000000</td>\n",
              "      <td>3.000000</td>\n",
              "      <td>38.000000</td>\n",
              "      <td>1.000000</td>\n",
              "      <td>0.000000</td>\n",
              "      <td>31.000000</td>\n",
              "    </tr>\n",
              "    <tr>\n",
              "      <th>max</th>\n",
              "      <td>891.000000</td>\n",
              "      <td>1.000000</td>\n",
              "      <td>3.000000</td>\n",
              "      <td>80.000000</td>\n",
              "      <td>8.000000</td>\n",
              "      <td>6.000000</td>\n",
              "      <td>512.329200</td>\n",
              "    </tr>\n",
              "  </tbody>\n",
              "</table>\n",
              "</div>\n",
              "      <button class=\"colab-df-convert\" onclick=\"convertToInteractive('df-35263258-4185-41fe-85bc-e9e70ef323d4')\"\n",
              "              title=\"Convert this dataframe to an interactive table.\"\n",
              "              style=\"display:none;\">\n",
              "        \n",
              "  <svg xmlns=\"http://www.w3.org/2000/svg\" height=\"24px\"viewBox=\"0 0 24 24\"\n",
              "       width=\"24px\">\n",
              "    <path d=\"M0 0h24v24H0V0z\" fill=\"none\"/>\n",
              "    <path d=\"M18.56 5.44l.94 2.06.94-2.06 2.06-.94-2.06-.94-.94-2.06-.94 2.06-2.06.94zm-11 1L8.5 8.5l.94-2.06 2.06-.94-2.06-.94L8.5 2.5l-.94 2.06-2.06.94zm10 10l.94 2.06.94-2.06 2.06-.94-2.06-.94-.94-2.06-.94 2.06-2.06.94z\"/><path d=\"M17.41 7.96l-1.37-1.37c-.4-.4-.92-.59-1.43-.59-.52 0-1.04.2-1.43.59L10.3 9.45l-7.72 7.72c-.78.78-.78 2.05 0 2.83L4 21.41c.39.39.9.59 1.41.59.51 0 1.02-.2 1.41-.59l7.78-7.78 2.81-2.81c.8-.78.8-2.07 0-2.86zM5.41 20L4 18.59l7.72-7.72 1.47 1.35L5.41 20z\"/>\n",
              "  </svg>\n",
              "      </button>\n",
              "      \n",
              "  <style>\n",
              "    .colab-df-container {\n",
              "      display:flex;\n",
              "      flex-wrap:wrap;\n",
              "      gap: 12px;\n",
              "    }\n",
              "\n",
              "    .colab-df-convert {\n",
              "      background-color: #E8F0FE;\n",
              "      border: none;\n",
              "      border-radius: 50%;\n",
              "      cursor: pointer;\n",
              "      display: none;\n",
              "      fill: #1967D2;\n",
              "      height: 32px;\n",
              "      padding: 0 0 0 0;\n",
              "      width: 32px;\n",
              "    }\n",
              "\n",
              "    .colab-df-convert:hover {\n",
              "      background-color: #E2EBFA;\n",
              "      box-shadow: 0px 1px 2px rgba(60, 64, 67, 0.3), 0px 1px 3px 1px rgba(60, 64, 67, 0.15);\n",
              "      fill: #174EA6;\n",
              "    }\n",
              "\n",
              "    [theme=dark] .colab-df-convert {\n",
              "      background-color: #3B4455;\n",
              "      fill: #D2E3FC;\n",
              "    }\n",
              "\n",
              "    [theme=dark] .colab-df-convert:hover {\n",
              "      background-color: #434B5C;\n",
              "      box-shadow: 0px 1px 3px 1px rgba(0, 0, 0, 0.15);\n",
              "      filter: drop-shadow(0px 1px 2px rgba(0, 0, 0, 0.3));\n",
              "      fill: #FFFFFF;\n",
              "    }\n",
              "  </style>\n",
              "\n",
              "      <script>\n",
              "        const buttonEl =\n",
              "          document.querySelector('#df-35263258-4185-41fe-85bc-e9e70ef323d4 button.colab-df-convert');\n",
              "        buttonEl.style.display =\n",
              "          google.colab.kernel.accessAllowed ? 'block' : 'none';\n",
              "\n",
              "        async function convertToInteractive(key) {\n",
              "          const element = document.querySelector('#df-35263258-4185-41fe-85bc-e9e70ef323d4');\n",
              "          const dataTable =\n",
              "            await google.colab.kernel.invokeFunction('convertToInteractive',\n",
              "                                                     [key], {});\n",
              "          if (!dataTable) return;\n",
              "\n",
              "          const docLinkHtml = 'Like what you see? Visit the ' +\n",
              "            '<a target=\"_blank\" href=https://colab.research.google.com/notebooks/data_table.ipynb>data table notebook</a>'\n",
              "            + ' to learn more about interactive tables.';\n",
              "          element.innerHTML = '';\n",
              "          dataTable['output_type'] = 'display_data';\n",
              "          await google.colab.output.renderOutput(dataTable, element);\n",
              "          const docLink = document.createElement('div');\n",
              "          docLink.innerHTML = docLinkHtml;\n",
              "          element.appendChild(docLink);\n",
              "        }\n",
              "      </script>\n",
              "    </div>\n",
              "  </div>\n",
              "  "
            ]
          },
          "metadata": {},
          "execution_count": 102
        }
      ]
    },
    {
      "cell_type": "code",
      "source": [
        "train.hist(figsize=(16,8))"
      ],
      "metadata": {
        "colab": {
          "base_uri": "https://localhost:8080/",
          "height": 684
        },
        "id": "wk_Kon05TPks",
        "outputId": "7cbcd356-d678-43c4-e948-c8b393c85657"
      },
      "execution_count": 103,
      "outputs": [
        {
          "output_type": "execute_result",
          "data": {
            "text/plain": [
              "array([[<matplotlib.axes._subplots.AxesSubplot object at 0x7f2832c63b90>,\n",
              "        <matplotlib.axes._subplots.AxesSubplot object at 0x7f2832c71990>,\n",
              "        <matplotlib.axes._subplots.AxesSubplot object at 0x7f2832c22f90>],\n",
              "       [<matplotlib.axes._subplots.AxesSubplot object at 0x7f2832be55d0>,\n",
              "        <matplotlib.axes._subplots.AxesSubplot object at 0x7f2832b99bd0>,\n",
              "        <matplotlib.axes._subplots.AxesSubplot object at 0x7f2832b5c210>],\n",
              "       [<matplotlib.axes._subplots.AxesSubplot object at 0x7f2832b14810>,\n",
              "        <matplotlib.axes._subplots.AxesSubplot object at 0x7f2832b4ee10>,\n",
              "        <matplotlib.axes._subplots.AxesSubplot object at 0x7f2832aec710>]],\n",
              "      dtype=object)"
            ]
          },
          "metadata": {},
          "execution_count": 103
        },
        {
          "output_type": "display_data",
          "data": {
            "text/plain": [
              "<Figure size 1152x576 with 9 Axes>"
            ],
            "image/png": "[encoded data removed]"
          },
          "metadata": {
            "needs_background": "light"
          }
        }
      ]
    },
    {
      "cell_type": "markdown",
      "source": [
        "#Analysing the data"
      ],
      "metadata": {
        "id": "2OZoJeNsUPzi"
      }
    },
    {
      "cell_type": "markdown",
      "source": [
        "Which groups had the highest survival rate?"
      ],
      "metadata": {
        "id": "4oHQFjgLUn6F"
      }
    },
    {
      "cell_type": "code",
      "source": [
        "# Analysing the survival rate (%) by gender:\n",
        "train[['Sex', 'Survived']].groupby(['Sex']).mean()"
      ],
      "metadata": {
        "colab": {
          "base_uri": "https://localhost:8080/",
          "height": 0
        },
        "id": "Cu4MCS61URvZ",
        "outputId": "aa5091fd-9b8a-4508-e2da-0e7d64708135"
      },
      "execution_count": 104,
      "outputs": [
        {
          "output_type": "execute_result",
          "data": {
            "text/plain": [
              "        Survived\n",
              "Sex             \n",
              "female  0.742038\n",
              "male    0.188908"
            ],
            "text/html": [
              "\n",
              "  <div id=\"df-3148496f-998f-43a0-8bfc-6968f69f8e93\">\n",
              "    <div class=\"colab-df-container\">\n",
              "      <div>\n",
              "<style scoped>\n",
              "    .dataframe tbody tr th:only-of-type {\n",
              "        vertical-align: middle;\n",
              "    }\n",
              "\n",
              "    .dataframe tbody tr th {\n",
              "        vertical-align: top;\n",
              "    }\n",
              "\n",
              "    .dataframe thead th {\n",
              "        text-align: right;\n",
              "    }\n",
              "</style>\n",
              "<table border=\"1\" class=\"dataframe\">\n",
              "  <thead>\n",
              "    <tr style=\"text-align: right;\">\n",
              "      <th></th>\n",
              "      <th>Survived</th>\n",
              "    </tr>\n",
              "    <tr>\n",
              "      <th>Sex</th>\n",
              "      <th></th>\n",
              "    </tr>\n",
              "  </thead>\n",
              "  <tbody>\n",
              "    <tr>\n",
              "      <th>female</th>\n",
              "      <td>0.742038</td>\n",
              "    </tr>\n",
              "    <tr>\n",
              "      <th>male</th>\n",
              "      <td>0.188908</td>\n",
              "    </tr>\n",
              "  </tbody>\n",
              "</table>\n",
              "</div>\n",
              "      <button class=\"colab-df-convert\" onclick=\"convertToInteractive('df-3148496f-998f-43a0-8bfc-6968f69f8e93')\"\n",
              "              title=\"Convert this dataframe to an interactive table.\"\n",
              "              style=\"display:none;\">\n",
              "        \n",
              "  <svg xmlns=\"http://www.w3.org/2000/svg\" height=\"24px\"viewBox=\"0 0 24 24\"\n",
              "       width=\"24px\">\n",
              "    <path d=\"M0 0h24v24H0V0z\" fill=\"none\"/>\n",
              "    <path d=\"M18.56 5.44l.94 2.06.94-2.06 2.06-.94-2.06-.94-.94-2.06-.94 2.06-2.06.94zm-11 1L8.5 8.5l.94-2.06 2.06-.94-2.06-.94L8.5 2.5l-.94 2.06-2.06.94zm10 10l.94 2.06.94-2.06 2.06-.94-2.06-.94-.94-2.06-.94 2.06-2.06.94z\"/><path d=\"M17.41 7.96l-1.37-1.37c-.4-.4-.92-.59-1.43-.59-.52 0-1.04.2-1.43.59L10.3 9.45l-7.72 7.72c-.78.78-.78 2.05 0 2.83L4 21.41c.39.39.9.59 1.41.59.51 0 1.02-.2 1.41-.59l7.78-7.78 2.81-2.81c.8-.78.8-2.07 0-2.86zM5.41 20L4 18.59l7.72-7.72 1.47 1.35L5.41 20z\"/>\n",
              "  </svg>\n",
              "      </button>\n",
              "      \n",
              "  <style>\n",
              "    .colab-df-container {\n",
              "      display:flex;\n",
              "      flex-wrap:wrap;\n",
              "      gap: 12px;\n",
              "    }\n",
              "\n",
              "    .colab-df-convert {\n",
              "      background-color: #E8F0FE;\n",
              "      border: none;\n",
              "      border-radius: 50%;\n",
              "      cursor: pointer;\n",
              "      display: none;\n",
              "      fill: #1967D2;\n",
              "      height: 32px;\n",
              "      padding: 0 0 0 0;\n",
              "      width: 32px;\n",
              "    }\n",
              "\n",
              "    .colab-df-convert:hover {\n",
              "      background-color: #E2EBFA;\n",
              "      box-shadow: 0px 1px 2px rgba(60, 64, 67, 0.3), 0px 1px 3px 1px rgba(60, 64, 67, 0.15);\n",
              "      fill: #174EA6;\n",
              "    }\n",
              "\n",
              "    [theme=dark] .colab-df-convert {\n",
              "      background-color: #3B4455;\n",
              "      fill: #D2E3FC;\n",
              "    }\n",
              "\n",
              "    [theme=dark] .colab-df-convert:hover {\n",
              "      background-color: #434B5C;\n",
              "      box-shadow: 0px 1px 3px 1px rgba(0, 0, 0, 0.15);\n",
              "      filter: drop-shadow(0px 1px 2px rgba(0, 0, 0, 0.3));\n",
              "      fill: #FFFFFF;\n",
              "    }\n",
              "  </style>\n",
              "\n",
              "      <script>\n",
              "        const buttonEl =\n",
              "          document.querySelector('#df-3148496f-998f-43a0-8bfc-6968f69f8e93 button.colab-df-convert');\n",
              "        buttonEl.style.display =\n",
              "          google.colab.kernel.accessAllowed ? 'block' : 'none';\n",
              "\n",
              "        async function convertToInteractive(key) {\n",
              "          const element = document.querySelector('#df-3148496f-998f-43a0-8bfc-6968f69f8e93');\n",
              "          const dataTable =\n",
              "            await google.colab.kernel.invokeFunction('convertToInteractive',\n",
              "                                                     [key], {});\n",
              "          if (!dataTable) return;\n",
              "\n",
              "          const docLinkHtml = 'Like what you see? Visit the ' +\n",
              "            '<a target=\"_blank\" href=https://colab.research.google.com/notebooks/data_table.ipynb>data table notebook</a>'\n",
              "            + ' to learn more about interactive tables.';\n",
              "          element.innerHTML = '';\n",
              "          dataTable['output_type'] = 'display_data';\n",
              "          await google.colab.output.renderOutput(dataTable, element);\n",
              "          const docLink = document.createElement('div');\n",
              "          docLink.innerHTML = docLinkHtml;\n",
              "          element.appendChild(docLink);\n",
              "        }\n",
              "      </script>\n",
              "    </div>\n",
              "  </div>\n",
              "  "
            ]
          },
          "metadata": {},
          "execution_count": 104
        }
      ]
    },
    {
      "cell_type": "code",
      "source": [
        "# Analysing the survival rate (%) by passangers class:\n",
        "\n",
        "train[['Pclass', 'Survived']].groupby(['Pclass']).mean()"
      ],
      "metadata": {
        "colab": {
          "base_uri": "https://localhost:8080/",
          "height": 0
        },
        "id": "OILV2LJIVQre",
        "outputId": "ad112ff6-6800-44be-acf9-3fc52e776a3e"
      },
      "execution_count": 105,
      "outputs": [
        {
          "output_type": "execute_result",
          "data": {
            "text/plain": [
              "        Survived\n",
              "Pclass          \n",
              "1       0.629630\n",
              "2       0.472826\n",
              "3       0.242363"
            ],
            "text/html": [
              "\n",
              "  <div id=\"df-47d996ea-6a62-490a-8192-7cd17b5e24a8\">\n",
              "    <div class=\"colab-df-container\">\n",
              "      <div>\n",
              "<style scoped>\n",
              "    .dataframe tbody tr th:only-of-type {\n",
              "        vertical-align: middle;\n",
              "    }\n",
              "\n",
              "    .dataframe tbody tr th {\n",
              "        vertical-align: top;\n",
              "    }\n",
              "\n",
              "    .dataframe thead th {\n",
              "        text-align: right;\n",
              "    }\n",
              "</style>\n",
              "<table border=\"1\" class=\"dataframe\">\n",
              "  <thead>\n",
              "    <tr style=\"text-align: right;\">\n",
              "      <th></th>\n",
              "      <th>Survived</th>\n",
              "    </tr>\n",
              "    <tr>\n",
              "      <th>Pclass</th>\n",
              "      <th></th>\n",
              "    </tr>\n",
              "  </thead>\n",
              "  <tbody>\n",
              "    <tr>\n",
              "      <th>1</th>\n",
              "      <td>0.629630</td>\n",
              "    </tr>\n",
              "    <tr>\n",
              "      <th>2</th>\n",
              "      <td>0.472826</td>\n",
              "    </tr>\n",
              "    <tr>\n",
              "      <th>3</th>\n",
              "      <td>0.242363</td>\n",
              "    </tr>\n",
              "  </tbody>\n",
              "</table>\n",
              "</div>\n",
              "      <button class=\"colab-df-convert\" onclick=\"convertToInteractive('df-47d996ea-6a62-490a-8192-7cd17b5e24a8')\"\n",
              "              title=\"Convert this dataframe to an interactive table.\"\n",
              "              style=\"display:none;\">\n",
              "        \n",
              "  <svg xmlns=\"http://www.w3.org/2000/svg\" height=\"24px\"viewBox=\"0 0 24 24\"\n",
              "       width=\"24px\">\n",
              "    <path d=\"M0 0h24v24H0V0z\" fill=\"none\"/>\n",
              "    <path d=\"M18.56 5.44l.94 2.06.94-2.06 2.06-.94-2.06-.94-.94-2.06-.94 2.06-2.06.94zm-11 1L8.5 8.5l.94-2.06 2.06-.94-2.06-.94L8.5 2.5l-.94 2.06-2.06.94zm10 10l.94 2.06.94-2.06 2.06-.94-2.06-.94-.94-2.06-.94 2.06-2.06.94z\"/><path d=\"M17.41 7.96l-1.37-1.37c-.4-.4-.92-.59-1.43-.59-.52 0-1.04.2-1.43.59L10.3 9.45l-7.72 7.72c-.78.78-.78 2.05 0 2.83L4 21.41c.39.39.9.59 1.41.59.51 0 1.02-.2 1.41-.59l7.78-7.78 2.81-2.81c.8-.78.8-2.07 0-2.86zM5.41 20L4 18.59l7.72-7.72 1.47 1.35L5.41 20z\"/>\n",
              "  </svg>\n",
              "      </button>\n",
              "      \n",
              "  <style>\n",
              "    .colab-df-container {\n",
              "      display:flex;\n",
              "      flex-wrap:wrap;\n",
              "      gap: 12px;\n",
              "    }\n",
              "\n",
              "    .colab-df-convert {\n",
              "      background-color: #E8F0FE;\n",
              "      border: none;\n",
              "      border-radius: 50%;\n",
              "      cursor: pointer;\n",
              "      display: none;\n",
              "      fill: #1967D2;\n",
              "      height: 32px;\n",
              "      padding: 0 0 0 0;\n",
              "      width: 32px;\n",
              "    }\n",
              "\n",
              "    .colab-df-convert:hover {\n",
              "      background-color: #E2EBFA;\n",
              "      box-shadow: 0px 1px 2px rgba(60, 64, 67, 0.3), 0px 1px 3px 1px rgba(60, 64, 67, 0.15);\n",
              "      fill: #174EA6;\n",
              "    }\n",
              "\n",
              "    [theme=dark] .colab-df-convert {\n",
              "      background-color: #3B4455;\n",
              "      fill: #D2E3FC;\n",
              "    }\n",
              "\n",
              "    [theme=dark] .colab-df-convert:hover {\n",
              "      background-color: #434B5C;\n",
              "      box-shadow: 0px 1px 3px 1px rgba(0, 0, 0, 0.15);\n",
              "      filter: drop-shadow(0px 1px 2px rgba(0, 0, 0, 0.3));\n",
              "      fill: #FFFFFF;\n",
              "    }\n",
              "  </style>\n",
              "\n",
              "      <script>\n",
              "        const buttonEl =\n",
              "          document.querySelector('#df-47d996ea-6a62-490a-8192-7cd17b5e24a8 button.colab-df-convert');\n",
              "        buttonEl.style.display =\n",
              "          google.colab.kernel.accessAllowed ? 'block' : 'none';\n",
              "\n",
              "        async function convertToInteractive(key) {\n",
              "          const element = document.querySelector('#df-47d996ea-6a62-490a-8192-7cd17b5e24a8');\n",
              "          const dataTable =\n",
              "            await google.colab.kernel.invokeFunction('convertToInteractive',\n",
              "                                                     [key], {});\n",
              "          if (!dataTable) return;\n",
              "\n",
              "          const docLinkHtml = 'Like what you see? Visit the ' +\n",
              "            '<a target=\"_blank\" href=https://colab.research.google.com/notebooks/data_table.ipynb>data table notebook</a>'\n",
              "            + ' to learn more about interactive tables.';\n",
              "          element.innerHTML = '';\n",
              "          dataTable['output_type'] = 'display_data';\n",
              "          await google.colab.output.renderOutput(dataTable, element);\n",
              "          const docLink = document.createElement('div');\n",
              "          docLink.innerHTML = docLinkHtml;\n",
              "          element.appendChild(docLink);\n",
              "        }\n",
              "      </script>\n",
              "    </div>\n",
              "  </div>\n",
              "  "
            ]
          },
          "metadata": {},
          "execution_count": 105
        }
      ]
    },
    {
      "cell_type": "code",
      "source": [
        "# Analysing the survival rate(%) by passangers class:\n",
        "#   C = Cherbourg\n",
        "#   Q = Queenstown\n",
        "#   S = Southampton\n",
        "\n",
        "train[['Embarked', 'Survived']].groupby(['Embarked']).mean()"
      ],
      "metadata": {
        "colab": {
          "base_uri": "https://localhost:8080/",
          "height": 0
        },
        "id": "mPL3mbJvXEMT",
        "outputId": "b5386bd6-aca7-432a-ad0a-c30d5b900ef5"
      },
      "execution_count": 106,
      "outputs": [
        {
          "output_type": "execute_result",
          "data": {
            "text/plain": [
              "          Survived\n",
              "Embarked          \n",
              "C         0.553571\n",
              "Q         0.389610\n",
              "S         0.336957"
            ],
            "text/html": [
              "\n",
              "  <div id=\"df-9888fcba-5d49-49dd-9b60-ee24548a29e4\">\n",
              "    <div class=\"colab-df-container\">\n",
              "      <div>\n",
              "<style scoped>\n",
              "    .dataframe tbody tr th:only-of-type {\n",
              "        vertical-align: middle;\n",
              "    }\n",
              "\n",
              "    .dataframe tbody tr th {\n",
              "        vertical-align: top;\n",
              "    }\n",
              "\n",
              "    .dataframe thead th {\n",
              "        text-align: right;\n",
              "    }\n",
              "</style>\n",
              "<table border=\"1\" class=\"dataframe\">\n",
              "  <thead>\n",
              "    <tr style=\"text-align: right;\">\n",
              "      <th></th>\n",
              "      <th>Survived</th>\n",
              "    </tr>\n",
              "    <tr>\n",
              "      <th>Embarked</th>\n",
              "      <th></th>\n",
              "    </tr>\n",
              "  </thead>\n",
              "  <tbody>\n",
              "    <tr>\n",
              "      <th>C</th>\n",
              "      <td>0.553571</td>\n",
              "    </tr>\n",
              "    <tr>\n",
              "      <th>Q</th>\n",
              "      <td>0.389610</td>\n",
              "    </tr>\n",
              "    <tr>\n",
              "      <th>S</th>\n",
              "      <td>0.336957</td>\n",
              "    </tr>\n",
              "  </tbody>\n",
              "</table>\n",
              "</div>\n",
              "      <button class=\"colab-df-convert\" onclick=\"convertToInteractive('df-9888fcba-5d49-49dd-9b60-ee24548a29e4')\"\n",
              "              title=\"Convert this dataframe to an interactive table.\"\n",
              "              style=\"display:none;\">\n",
              "        \n",
              "  <svg xmlns=\"http://www.w3.org/2000/svg\" height=\"24px\"viewBox=\"0 0 24 24\"\n",
              "       width=\"24px\">\n",
              "    <path d=\"M0 0h24v24H0V0z\" fill=\"none\"/>\n",
              "    <path d=\"M18.56 5.44l.94 2.06.94-2.06 2.06-.94-2.06-.94-.94-2.06-.94 2.06-2.06.94zm-11 1L8.5 8.5l.94-2.06 2.06-.94-2.06-.94L8.5 2.5l-.94 2.06-2.06.94zm10 10l.94 2.06.94-2.06 2.06-.94-2.06-.94-.94-2.06-.94 2.06-2.06.94z\"/><path d=\"M17.41 7.96l-1.37-1.37c-.4-.4-.92-.59-1.43-.59-.52 0-1.04.2-1.43.59L10.3 9.45l-7.72 7.72c-.78.78-.78 2.05 0 2.83L4 21.41c.39.39.9.59 1.41.59.51 0 1.02-.2 1.41-.59l7.78-7.78 2.81-2.81c.8-.78.8-2.07 0-2.86zM5.41 20L4 18.59l7.72-7.72 1.47 1.35L5.41 20z\"/>\n",
              "  </svg>\n",
              "      </button>\n",
              "      \n",
              "  <style>\n",
              "    .colab-df-container {\n",
              "      display:flex;\n",
              "      flex-wrap:wrap;\n",
              "      gap: 12px;\n",
              "    }\n",
              "\n",
              "    .colab-df-convert {\n",
              "      background-color: #E8F0FE;\n",
              "      border: none;\n",
              "      border-radius: 50%;\n",
              "      cursor: pointer;\n",
              "      display: none;\n",
              "      fill: #1967D2;\n",
              "      height: 32px;\n",
              "      padding: 0 0 0 0;\n",
              "      width: 32px;\n",
              "    }\n",
              "\n",
              "    .colab-df-convert:hover {\n",
              "      background-color: #E2EBFA;\n",
              "      box-shadow: 0px 1px 2px rgba(60, 64, 67, 0.3), 0px 1px 3px 1px rgba(60, 64, 67, 0.15);\n",
              "      fill: #174EA6;\n",
              "    }\n",
              "\n",
              "    [theme=dark] .colab-df-convert {\n",
              "      background-color: #3B4455;\n",
              "      fill: #D2E3FC;\n",
              "    }\n",
              "\n",
              "    [theme=dark] .colab-df-convert:hover {\n",
              "      background-color: #434B5C;\n",
              "      box-shadow: 0px 1px 3px 1px rgba(0, 0, 0, 0.15);\n",
              "      filter: drop-shadow(0px 1px 2px rgba(0, 0, 0, 0.3));\n",
              "      fill: #FFFFFF;\n",
              "    }\n",
              "  </style>\n",
              "\n",
              "      <script>\n",
              "        const buttonEl =\n",
              "          document.querySelector('#df-9888fcba-5d49-49dd-9b60-ee24548a29e4 button.colab-df-convert');\n",
              "        buttonEl.style.display =\n",
              "          google.colab.kernel.accessAllowed ? 'block' : 'none';\n",
              "\n",
              "        async function convertToInteractive(key) {\n",
              "          const element = document.querySelector('#df-9888fcba-5d49-49dd-9b60-ee24548a29e4');\n",
              "          const dataTable =\n",
              "            await google.colab.kernel.invokeFunction('convertToInteractive',\n",
              "                                                     [key], {});\n",
              "          if (!dataTable) return;\n",
              "\n",
              "          const docLinkHtml = 'Like what you see? Visit the ' +\n",
              "            '<a target=\"_blank\" href=https://colab.research.google.com/notebooks/data_table.ipynb>data table notebook</a>'\n",
              "            + ' to learn more about interactive tables.';\n",
              "          element.innerHTML = '';\n",
              "          dataTable['output_type'] = 'display_data';\n",
              "          await google.colab.output.renderOutput(dataTable, element);\n",
              "          const docLink = document.createElement('div');\n",
              "          docLink.innerHTML = docLinkHtml;\n",
              "          element.appendChild(docLink);\n",
              "        }\n",
              "      </script>\n",
              "    </div>\n",
              "  </div>\n",
              "  "
            ]
          },
          "metadata": {},
          "execution_count": 106
        }
      ]
    },
    {
      "cell_type": "code",
      "source": [
        "# Plotting the survival rate (%) by groups\n",
        "\n",
        "fig, (sexsr, pcsr, esr) = plt.subplots(1,3, figsize=(16,4))\n",
        "\n",
        "sx = sns.barplot(x='Sex', y='Survived', data=train, ax=sexsr)\n",
        "sx.set(ylim=(0, 1))\n",
        "sx\n",
        "\n",
        "px = sns.barplot(x='Pclass', y='Survived', data=train, ax=pcsr)\n",
        "px.set(ylim=(0, 1))\n",
        "px\n",
        "\n",
        "ex = sns.barplot(x='Embarked', y='Survived', data=train, ax=esr);\n",
        "ex.set(ylim=(0, 1))\n",
        "ex"
      ],
      "metadata": {
        "colab": {
          "base_uri": "https://localhost:8080/",
          "height": 0
        },
        "id": "zp_4RZEGVBTs",
        "outputId": "dd635811-e11a-4dad-932d-a90ca01c8e27"
      },
      "execution_count": 107,
      "outputs": [
        {
          "output_type": "execute_result",
          "data": {
            "text/plain": [
              "<matplotlib.axes._subplots.AxesSubplot at 0x7f283294bed0>"
            ]
          },
          "metadata": {},
          "execution_count": 107
        },
        {
          "output_type": "display_data",
          "data": {
            "text/plain": [
              "<Figure size 1152x288 with 3 Axes>"
            ],
            "image/png": "[encoded data removed]"
          },
          "metadata": {
            "needs_background": "light"
          }
        }
      ]
    },
    {
      "cell_type": "markdown",
      "source": [
        "Analysing the data by the passengers age"
      ],
      "metadata": {
        "id": "J1U7PBmMZOsq"
      }
    },
    {
      "cell_type": "code",
      "source": [
        "age_survived = sns.FacetGrid(train, col='Survived')\n",
        "age_survived.map(sns.distplot, 'Age')\n"
      ],
      "metadata": {
        "colab": {
          "base_uri": "https://localhost:8080/",
          "height": 0
        },
        "id": "TlFxSHibVMcP",
        "outputId": "3ec73268-9a10-4205-999f-a06985c5391d"
      },
      "execution_count": 108,
      "outputs": [
        {
          "output_type": "stream",
          "name": "stderr",
          "text": [
            "/usr/local/lib/python3.7/dist-packages/seaborn/distributions.py:2619: FutureWarning: `distplot` is a deprecated function and will be removed in a future version. Please adapt your code to use either `displot` (a figure-level function with similar flexibility) or `histplot` (an axes-level function for histograms).\n",
            "  warnings.warn(msg, FutureWarning)\n",
            "/usr/local/lib/python3.7/dist-packages/seaborn/distributions.py:2619: FutureWarning: `distplot` is a deprecated function and will be removed in a future version. Please adapt your code to use either `displot` (a figure-level function with similar flexibility) or `histplot` (an axes-level function for histograms).\n",
            "  warnings.warn(msg, FutureWarning)\n"
          ]
        },
        {
          "output_type": "execute_result",
          "data": {
            "text/plain": [
              "<seaborn.axisgrid.FacetGrid at 0x7f283287a110>"
            ]
          },
          "metadata": {},
          "execution_count": 108
        },
        {
          "output_type": "display_data",
          "data": {
            "text/plain": [
              "<Figure size 432x216 with 2 Axes>"
            ],
            "image/png": "[encoded data removed]"
          },
          "metadata": {
            "needs_background": "light"
          }
        }
      ]
    },
    {
      "cell_type": "code",
      "source": [
        "columns=['Parch', 'SibSp', 'Age', 'Pclass']\n",
        "pd.plotting.scatter_matrix(train[columns], figsize=(16, 10));"
      ],
      "metadata": {
        "colab": {
          "base_uri": "https://localhost:8080/",
          "height": 0
        },
        "id": "kc3JJK7PZUN-",
        "outputId": "f745946e-a232-40a6-9805-6f982fbc332e"
      },
      "execution_count": 109,
      "outputs": [
        {
          "output_type": "display_data",
          "data": {
            "text/plain": [
              "<Figure size 1152x720 with 16 Axes>"
            ],
            "image/png": "[encoded data removed]"
          },
          "metadata": {
            "needs_background": "light"
          }
        }
      ]
    },
    {
      "cell_type": "code",
      "source": [
        "sns.heatmap(train.corr(), cmap='coolwarm', fmt='.2f', linewidths=0.1,\n",
        "            vmax=1.0, square=True, linecolor='white', annot=True);"
      ],
      "metadata": {
        "colab": {
          "base_uri": "https://localhost:8080/",
          "height": 0
        },
        "id": "7-WEW_XGaYZT",
        "outputId": "8ebefe26-ee23-4c76-a59a-823a20e678f0"
      },
      "execution_count": 110,
      "outputs": [
        {
          "output_type": "display_data",
          "data": {
            "text/plain": [
              "<Figure size 432x288 with 2 Axes>"
            ],
            "image/png": "[encoded data removed]"
          },
          "metadata": {
            "needs_background": "light"
          }
        }
      ]
    },
    {
      "cell_type": "code",
      "source": [
        "train.describe(include=['O'])"
      ],
      "metadata": {
        "colab": {
          "base_uri": "https://localhost:8080/",
          "height": 0
        },
        "id": "4yJkZ0q1algN",
        "outputId": "a3a46b74-0bbb-4757-e89b-d0a1177cc4d0"
      },
      "execution_count": 111,
      "outputs": [
        {
          "output_type": "execute_result",
          "data": {
            "text/plain": [
              "                           Name   Sex  Ticket    Cabin Embarked\n",
              "count                       891   891     891      204      889\n",
              "unique                      891     2     681      147        3\n",
              "top     Braund, Mr. Owen Harris  male  347082  B96 B98        S\n",
              "freq                          1   577       7        4      644"
            ],
            "text/html": [
              "\n",
              "  <div id=\"df-23043127-ad34-4419-863f-c889e47740b4\">\n",
              "    <div class=\"colab-df-container\">\n",
              "      <div>\n",
              "<style scoped>\n",
              "    .dataframe tbody tr th:only-of-type {\n",
              "        vertical-align: middle;\n",
              "    }\n",
              "\n",
              "    .dataframe tbody tr th {\n",
              "        vertical-align: top;\n",
              "    }\n",
              "\n",
              "    .dataframe thead th {\n",
              "        text-align: right;\n",
              "    }\n",
              "</style>\n",
              "<table border=\"1\" class=\"dataframe\">\n",
              "  <thead>\n",
              "    <tr style=\"text-align: right;\">\n",
              "      <th></th>\n",
              "      <th>Name</th>\n",
              "      <th>Sex</th>\n",
              "      <th>Ticket</th>\n",
              "      <th>Cabin</th>\n",
              "      <th>Embarked</th>\n",
              "    </tr>\n",
              "  </thead>\n",
              "  <tbody>\n",
              "    <tr>\n",
              "      <th>count</th>\n",
              "      <td>891</td>\n",
              "      <td>891</td>\n",
              "      <td>891</td>\n",
              "      <td>204</td>\n",
              "      <td>889</td>\n",
              "    </tr>\n",
              "    <tr>\n",
              "      <th>unique</th>\n",
              "      <td>891</td>\n",
              "      <td>2</td>\n",
              "      <td>681</td>\n",
              "      <td>147</td>\n",
              "      <td>3</td>\n",
              "    </tr>\n",
              "    <tr>\n",
              "      <th>top</th>\n",
              "      <td>Braund, Mr. Owen Harris</td>\n",
              "      <td>male</td>\n",
              "      <td>347082</td>\n",
              "      <td>B96 B98</td>\n",
              "      <td>S</td>\n",
              "    </tr>\n",
              "    <tr>\n",
              "      <th>freq</th>\n",
              "      <td>1</td>\n",
              "      <td>577</td>\n",
              "      <td>7</td>\n",
              "      <td>4</td>\n",
              "      <td>644</td>\n",
              "    </tr>\n",
              "  </tbody>\n",
              "</table>\n",
              "</div>\n",
              "      <button class=\"colab-df-convert\" onclick=\"convertToInteractive('df-23043127-ad34-4419-863f-c889e47740b4')\"\n",
              "              title=\"Convert this dataframe to an interactive table.\"\n",
              "              style=\"display:none;\">\n",
              "        \n",
              "  <svg xmlns=\"http://www.w3.org/2000/svg\" height=\"24px\"viewBox=\"0 0 24 24\"\n",
              "       width=\"24px\">\n",
              "    <path d=\"M0 0h24v24H0V0z\" fill=\"none\"/>\n",
              "    <path d=\"M18.56 5.44l.94 2.06.94-2.06 2.06-.94-2.06-.94-.94-2.06-.94 2.06-2.06.94zm-11 1L8.5 8.5l.94-2.06 2.06-.94-2.06-.94L8.5 2.5l-.94 2.06-2.06.94zm10 10l.94 2.06.94-2.06 2.06-.94-2.06-.94-.94-2.06-.94 2.06-2.06.94z\"/><path d=\"M17.41 7.96l-1.37-1.37c-.4-.4-.92-.59-1.43-.59-.52 0-1.04.2-1.43.59L10.3 9.45l-7.72 7.72c-.78.78-.78 2.05 0 2.83L4 21.41c.39.39.9.59 1.41.59.51 0 1.02-.2 1.41-.59l7.78-7.78 2.81-2.81c.8-.78.8-2.07 0-2.86zM5.41 20L4 18.59l7.72-7.72 1.47 1.35L5.41 20z\"/>\n",
              "  </svg>\n",
              "      </button>\n",
              "      \n",
              "  <style>\n",
              "    .colab-df-container {\n",
              "      display:flex;\n",
              "      flex-wrap:wrap;\n",
              "      gap: 12px;\n",
              "    }\n",
              "\n",
              "    .colab-df-convert {\n",
              "      background-color: #E8F0FE;\n",
              "      border: none;\n",
              "      border-radius: 50%;\n",
              "      cursor: pointer;\n",
              "      display: none;\n",
              "      fill: #1967D2;\n",
              "      height: 32px;\n",
              "      padding: 0 0 0 0;\n",
              "      width: 32px;\n",
              "    }\n",
              "\n",
              "    .colab-df-convert:hover {\n",
              "      background-color: #E2EBFA;\n",
              "      box-shadow: 0px 1px 2px rgba(60, 64, 67, 0.3), 0px 1px 3px 1px rgba(60, 64, 67, 0.15);\n",
              "      fill: #174EA6;\n",
              "    }\n",
              "\n",
              "    [theme=dark] .colab-df-convert {\n",
              "      background-color: #3B4455;\n",
              "      fill: #D2E3FC;\n",
              "    }\n",
              "\n",
              "    [theme=dark] .colab-df-convert:hover {\n",
              "      background-color: #434B5C;\n",
              "      box-shadow: 0px 1px 3px 1px rgba(0, 0, 0, 0.15);\n",
              "      filter: drop-shadow(0px 1px 2px rgba(0, 0, 0, 0.3));\n",
              "      fill: #FFFFFF;\n",
              "    }\n",
              "  </style>\n",
              "\n",
              "      <script>\n",
              "        const buttonEl =\n",
              "          document.querySelector('#df-23043127-ad34-4419-863f-c889e47740b4 button.colab-df-convert');\n",
              "        buttonEl.style.display =\n",
              "          google.colab.kernel.accessAllowed ? 'block' : 'none';\n",
              "\n",
              "        async function convertToInteractive(key) {\n",
              "          const element = document.querySelector('#df-23043127-ad34-4419-863f-c889e47740b4');\n",
              "          const dataTable =\n",
              "            await google.colab.kernel.invokeFunction('convertToInteractive',\n",
              "                                                     [key], {});\n",
              "          if (!dataTable) return;\n",
              "\n",
              "          const docLinkHtml = 'Like what you see? Visit the ' +\n",
              "            '<a target=\"_blank\" href=https://colab.research.google.com/notebooks/data_table.ipynb>data table notebook</a>'\n",
              "            + ' to learn more about interactive tables.';\n",
              "          element.innerHTML = '';\n",
              "          dataTable['output_type'] = 'display_data';\n",
              "          await google.colab.output.renderOutput(dataTable, element);\n",
              "          const docLink = document.createElement('div');\n",
              "          docLink.innerHTML = docLinkHtml;\n",
              "          element.appendChild(docLink);\n",
              "        }\n",
              "      </script>\n",
              "    </div>\n",
              "  </div>\n",
              "  "
            ]
          },
          "metadata": {},
          "execution_count": 111
        }
      ]
    },
    {
      "cell_type": "markdown",
      "source": [
        "# Working on the DataFrame"
      ],
      "metadata": {
        "id": "p4EpYQwGbLOL"
      }
    },
    {
      "cell_type": "code",
      "source": [
        "# Saving the indexes for futher analysies\n",
        "train_idx = train.shape[0]\n",
        "test_idx = test.shape[0]\n",
        "\n",
        "# Saving the 'PassengerId' for the Kaggle submission\n",
        "passengerId = test['PassengerId']\n",
        "\n",
        "# Extracting the column 'Survived' and deleting it from the 'test' dadaset\n",
        "target = train.Survived.copy()\n",
        "train.drop(['Survived'], axis=1, inplace=True)\n",
        "\n",
        "# Concatanating 'test' and 'train' on a unique DataFrame\n",
        "df_merged = pd.concat(objs=[train, test], axis=0).reset_index(drop=True)\n",
        "\n",
        "print(\"df_merged.shape: ({} x {})\".format(df_merged.shape[0], df_merged.shape[1]))"
      ],
      "metadata": {
        "colab": {
          "base_uri": "https://localhost:8080/"
        },
        "id": "5UExdXGxazXQ",
        "outputId": "83a9c4f9-9074-47cc-e9ad-d7c4f0a8aba3"
      },
      "execution_count": 112,
      "outputs": [
        {
          "output_type": "stream",
          "name": "stdout",
          "text": [
            "df_merged.shape: (1309 x 11)\n"
          ]
        }
      ]
    },
    {
      "cell_type": "code",
      "source": [
        "# Droping useless columns\n",
        "\n",
        "df_merged.drop(['PassengerId', 'Name', 'Ticket', 'Cabin'], axis=1, inplace=True)"
      ],
      "metadata": {
        "id": "V1oZ6phEejmi"
      },
      "execution_count": 113,
      "outputs": []
    },
    {
      "cell_type": "code",
      "source": [
        "df_merged.isnull().sum()"
      ],
      "metadata": {
        "colab": {
          "base_uri": "https://localhost:8080/"
        },
        "id": "STZUJbYLdYl6",
        "outputId": "4f6d3c99-2fb4-48d0-bd76-2cfedc2bf05f"
      },
      "execution_count": 114,
      "outputs": [
        {
          "output_type": "execute_result",
          "data": {
            "text/plain": [
              "Pclass        0\n",
              "Sex           0\n",
              "Age         263\n",
              "SibSp         0\n",
              "Parch         0\n",
              "Fare          1\n",
              "Embarked      2\n",
              "dtype: int64"
            ]
          },
          "metadata": {},
          "execution_count": 114
        }
      ]
    },
    {
      "cell_type": "code",
      "source": [
        "# Filling the missing data\n",
        "\n",
        "# age with the median\n",
        "age_median = df_merged['Age'].median()\n",
        "df_merged['Age'].fillna(age_median, inplace=True)\n",
        "\n",
        "# fare with the median\n",
        "fare_median = df_merged['Fare'].median()\n",
        "df_merged['Fare'].fillna(fare_median, inplace=True)\n",
        "\n",
        "# embarked with the most common value counted\n",
        "embarked_top = df_merged['Embarked'].value_counts()[0]\n",
        "df_merged['Embarked'].fillna(embarked_top, inplace=True)"
      ],
      "metadata": {
        "id": "RzJ-MJdTduF1"
      },
      "execution_count": 115,
      "outputs": []
    },
    {
      "cell_type": "code",
      "source": [
        "# Replacing 'Sex' with 0 (male) and 1 (female)\n",
        "df_merged['Sex'] = df_merged['Sex'].map({'male': 0, 'female': 1})\n",
        "\n",
        "# Dummie variables for 'Embaked'\n",
        "embarked_dummies = pd.get_dummies(df_merged['Embarked'], prefix='Embarked')\n",
        "df_merged = pd.concat([df_merged, embarked_dummies], axis=1)\n",
        "df_merged.drop('Embarked', axis=1, inplace=True)\n",
        "\n",
        "display(df_merged.head())"
      ],
      "metadata": {
        "colab": {
          "base_uri": "https://localhost:8080/",
          "height": 206
        },
        "id": "Ne2kIPobd9yz",
        "outputId": "f5ff1131-56fc-4396-fb28-1555277b7767"
      },
      "execution_count": 116,
      "outputs": [
        {
          "output_type": "display_data",
          "data": {
            "text/plain": [
              "   Pclass  Sex   Age  SibSp  Parch     Fare  Embarked_914  Embarked_C  \\\n",
              "0       3    0  22.0      1      0   7.2500             0           0   \n",
              "1       1    1  38.0      1      0  71.2833             0           1   \n",
              "2       3    1  26.0      0      0   7.9250             0           0   \n",
              "3       1    1  35.0      1      0  53.1000             0           0   \n",
              "4       3    0  35.0      0      0   8.0500             0           0   \n",
              "\n",
              "   Embarked_Q  Embarked_S  \n",
              "0           0           1  \n",
              "1           0           0  \n",
              "2           0           1  \n",
              "3           0           1  \n",
              "4           0           1  "
            ],
            "text/html": [
              "\n",
              "  <div id=\"df-b4575a18-0c57-4341-86c3-14bcafd11be9\">\n",
              "    <div class=\"colab-df-container\">\n",
              "      <div>\n",
              "<style scoped>\n",
              "    .dataframe tbody tr th:only-of-type {\n",
              "        vertical-align: middle;\n",
              "    }\n",
              "\n",
              "    .dataframe tbody tr th {\n",
              "        vertical-align: top;\n",
              "    }\n",
              "\n",
              "    .dataframe thead th {\n",
              "        text-align: right;\n",
              "    }\n",
              "</style>\n",
              "<table border=\"1\" class=\"dataframe\">\n",
              "  <thead>\n",
              "    <tr style=\"text-align: right;\">\n",
              "      <th></th>\n",
              "      <th>Pclass</th>\n",
              "      <th>Sex</th>\n",
              "      <th>Age</th>\n",
              "      <th>SibSp</th>\n",
              "      <th>Parch</th>\n",
              "      <th>Fare</th>\n",
              "      <th>Embarked_914</th>\n",
              "      <th>Embarked_C</th>\n",
              "      <th>Embarked_Q</th>\n",
              "      <th>Embarked_S</th>\n",
              "    </tr>\n",
              "  </thead>\n",
              "  <tbody>\n",
              "    <tr>\n",
              "      <th>0</th>\n",
              "      <td>3</td>\n",
              "      <td>0</td>\n",
              "      <td>22.0</td>\n",
              "      <td>1</td>\n",
              "      <td>0</td>\n",
              "      <td>7.2500</td>\n",
              "      <td>0</td>\n",
              "      <td>0</td>\n",
              "      <td>0</td>\n",
              "      <td>1</td>\n",
              "    </tr>\n",
              "    <tr>\n",
              "      <th>1</th>\n",
              "      <td>1</td>\n",
              "      <td>1</td>\n",
              "      <td>38.0</td>\n",
              "      <td>1</td>\n",
              "      <td>0</td>\n",
              "      <td>71.2833</td>\n",
              "      <td>0</td>\n",
              "      <td>1</td>\n",
              "      <td>0</td>\n",
              "      <td>0</td>\n",
              "    </tr>\n",
              "    <tr>\n",
              "      <th>2</th>\n",
              "      <td>3</td>\n",
              "      <td>1</td>\n",
              "      <td>26.0</td>\n",
              "      <td>0</td>\n",
              "      <td>0</td>\n",
              "      <td>7.9250</td>\n",
              "      <td>0</td>\n",
              "      <td>0</td>\n",
              "      <td>0</td>\n",
              "      <td>1</td>\n",
              "    </tr>\n",
              "    <tr>\n",
              "      <th>3</th>\n",
              "      <td>1</td>\n",
              "      <td>1</td>\n",
              "      <td>35.0</td>\n",
              "      <td>1</td>\n",
              "      <td>0</td>\n",
              "      <td>53.1000</td>\n",
              "      <td>0</td>\n",
              "      <td>0</td>\n",
              "      <td>0</td>\n",
              "      <td>1</td>\n",
              "    </tr>\n",
              "    <tr>\n",
              "      <th>4</th>\n",
              "      <td>3</td>\n",
              "      <td>0</td>\n",
              "      <td>35.0</td>\n",
              "      <td>0</td>\n",
              "      <td>0</td>\n",
              "      <td>8.0500</td>\n",
              "      <td>0</td>\n",
              "      <td>0</td>\n",
              "      <td>0</td>\n",
              "      <td>1</td>\n",
              "    </tr>\n",
              "  </tbody>\n",
              "</table>\n",
              "</div>\n",
              "      <button class=\"colab-df-convert\" onclick=\"convertToInteractive('df-b4575a18-0c57-4341-86c3-14bcafd11be9')\"\n",
              "              title=\"Convert this dataframe to an interactive table.\"\n",
              "              style=\"display:none;\">\n",
              "        \n",
              "  <svg xmlns=\"http://www.w3.org/2000/svg\" height=\"24px\"viewBox=\"0 0 24 24\"\n",
              "       width=\"24px\">\n",
              "    <path d=\"M0 0h24v24H0V0z\" fill=\"none\"/>\n",
              "    <path d=\"M18.56 5.44l.94 2.06.94-2.06 2.06-.94-2.06-.94-.94-2.06-.94 2.06-2.06.94zm-11 1L8.5 8.5l.94-2.06 2.06-.94-2.06-.94L8.5 2.5l-.94 2.06-2.06.94zm10 10l.94 2.06.94-2.06 2.06-.94-2.06-.94-.94-2.06-.94 2.06-2.06.94z\"/><path d=\"M17.41 7.96l-1.37-1.37c-.4-.4-.92-.59-1.43-.59-.52 0-1.04.2-1.43.59L10.3 9.45l-7.72 7.72c-.78.78-.78 2.05 0 2.83L4 21.41c.39.39.9.59 1.41.59.51 0 1.02-.2 1.41-.59l7.78-7.78 2.81-2.81c.8-.78.8-2.07 0-2.86zM5.41 20L4 18.59l7.72-7.72 1.47 1.35L5.41 20z\"/>\n",
              "  </svg>\n",
              "      </button>\n",
              "      \n",
              "  <style>\n",
              "    .colab-df-container {\n",
              "      display:flex;\n",
              "      flex-wrap:wrap;\n",
              "      gap: 12px;\n",
              "    }\n",
              "\n",
              "    .colab-df-convert {\n",
              "      background-color: #E8F0FE;\n",
              "      border: none;\n",
              "      border-radius: 50%;\n",
              "      cursor: pointer;\n",
              "      display: none;\n",
              "      fill: #1967D2;\n",
              "      height: 32px;\n",
              "      padding: 0 0 0 0;\n",
              "      width: 32px;\n",
              "    }\n",
              "\n",
              "    .colab-df-convert:hover {\n",
              "      background-color: #E2EBFA;\n",
              "      box-shadow: 0px 1px 2px rgba(60, 64, 67, 0.3), 0px 1px 3px 1px rgba(60, 64, 67, 0.15);\n",
              "      fill: #174EA6;\n",
              "    }\n",
              "\n",
              "    [theme=dark] .colab-df-convert {\n",
              "      background-color: #3B4455;\n",
              "      fill: #D2E3FC;\n",
              "    }\n",
              "\n",
              "    [theme=dark] .colab-df-convert:hover {\n",
              "      background-color: #434B5C;\n",
              "      box-shadow: 0px 1px 3px 1px rgba(0, 0, 0, 0.15);\n",
              "      filter: drop-shadow(0px 1px 2px rgba(0, 0, 0, 0.3));\n",
              "      fill: #FFFFFF;\n",
              "    }\n",
              "  </style>\n",
              "\n",
              "      <script>\n",
              "        const buttonEl =\n",
              "          document.querySelector('#df-b4575a18-0c57-4341-86c3-14bcafd11be9 button.colab-df-convert');\n",
              "        buttonEl.style.display =\n",
              "          google.colab.kernel.accessAllowed ? 'block' : 'none';\n",
              "\n",
              "        async function convertToInteractive(key) {\n",
              "          const element = document.querySelector('#df-b4575a18-0c57-4341-86c3-14bcafd11be9');\n",
              "          const dataTable =\n",
              "            await google.colab.kernel.invokeFunction('convertToInteractive',\n",
              "                                                     [key], {});\n",
              "          if (!dataTable) return;\n",
              "\n",
              "          const docLinkHtml = 'Like what you see? Visit the ' +\n",
              "            '<a target=\"_blank\" href=https://colab.research.google.com/notebooks/data_table.ipynb>data table notebook</a>'\n",
              "            + ' to learn more about interactive tables.';\n",
              "          element.innerHTML = '';\n",
              "          dataTable['output_type'] = 'display_data';\n",
              "          await google.colab.output.renderOutput(dataTable, element);\n",
              "          const docLink = document.createElement('div');\n",
              "          docLink.innerHTML = docLinkHtml;\n",
              "          element.appendChild(docLink);\n",
              "        }\n",
              "      </script>\n",
              "    </div>\n",
              "  </div>\n",
              "  "
            ]
          },
          "metadata": {}
        }
      ]
    },
    {
      "cell_type": "code",
      "source": [
        "# Rebuilding the datasets 'test' and 'train'\n",
        "\n",
        "train = df_merged.iloc[:train_idx]\n",
        "test = df_merged.iloc[train_idx:]"
      ],
      "metadata": {
        "id": "IlbnQwCleDHi"
      },
      "execution_count": 117,
      "outputs": []
    },
    {
      "cell_type": "markdown",
      "source": [
        "# Modeling with Machine Learning"
      ],
      "metadata": {
        "id": "2QTsxAhEeMD6"
      }
    },
    {
      "cell_type": "markdown",
      "source": [
        "## Logistic Regression"
      ],
      "metadata": {
        "id": "t2dCWXI3e5kY"
      }
    },
    {
      "cell_type": "code",
      "source": [
        "# Importing the machine learning libraries for the modeling process\n",
        "\n",
        "from sklearn.linear_model import LogisticRegression\n",
        "from sklearn.tree import DecisionTreeClassifier"
      ],
      "metadata": {
        "id": "1L1S6BrXeLvg"
      },
      "execution_count": 118,
      "outputs": []
    },
    {
      "cell_type": "code",
      "source": [
        "# Building a model with Logistic Regression\n",
        "\n",
        "lr_model = LogisticRegression(solver='liblinear')\n",
        "lr_model.fit(train, target)\n",
        "\n",
        "# Checking the model accuracy\n",
        "\n",
        "acc_logReg = round(lr_model.score(train, target) * 100, 2)\n",
        "print(\"Acurácia do modelo de Regressão Logística: {}\".format(acc_logReg))"
      ],
      "metadata": {
        "colab": {
          "base_uri": "https://localhost:8080/"
        },
        "id": "GobetyOjeKtI",
        "outputId": "550ff111-3952-4bfe-fc68-5ed6a07ccc34"
      },
      "execution_count": 119,
      "outputs": [
        {
          "output_type": "stream",
          "name": "stdout",
          "text": [
            "Acurácia do modelo de Regressão Logística: 80.13\n"
          ]
        }
      ]
    },
    {
      "cell_type": "code",
      "source": [
        "y_pred_lr = lr_model.predict(test)\n",
        "\n",
        "submission = pd.DataFrame({\n",
        "    \"PassengerId\": passengerId,\n",
        "    \"Survived\": y_pred_lr\n",
        "})\n",
        "\n",
        "# Saving the csv for kaggle\n",
        "\n",
        "submission.to_csv('./submission_lr.csv', index=False)"
      ],
      "metadata": {
        "id": "ZYtUvFiGeUoo"
      },
      "execution_count": 120,
      "outputs": []
    },
    {
      "cell_type": "markdown",
      "source": [
        "![image.png](data:image/png;base64,iVBORw0KGgoAAAANSUhEUgAABFQAAADBCAYAAADhGeSzAAAgAElEQVR4nOzde1xVVf7/8VdhnFSEBDGZEdHALmA5gKPBrwtEmZaG2aA2IuWF0byNly5EmfqtiEqzSbMp1CbS76hMKWJpmAOODqgp1FehSSFDaHAkcTji5SDI749zgAMcLkdRbOb9fDx45L6t9Vl7b3y4Pq219jXV1dXViIiIiIiIiIhIq13b3gGIiIiIiIiIiPzcdLD3ggsXLlB++iznzpk4ZzJx/nwlFy5cuByxiYiIiIiIiIi0uWuvvZbrruvA9QYD119vwKlzR6691r4xJ9e0dsqPqaKCsrJyyoyncOrciU6drsfg6Mh113XAwcHhohogIiIiIiIiInKlVVVVcf58JaaKCs6cOUf56TO4OHfBxcUJg6Njq8poVULlpxMnKSs7RdeuLrg4OymBIiIiIiIiIiL/MaqqqigzlnPyZBkuLl3o5ta1xWuaTaiYKir41/ETGAyOdHO9QYkUEREREREREfmPVVVVxU+l/8ZkquDG7m7NjlZpMqFy7pyJH4uP083tBlycu1y2YEVEREREREREriZlxlP8dOLf/NKjO9dfb7B5js2EiqmigqIf/0V3d1e6OHW+7IGKiIiIiIiIiFxNTpWf5nhJKT1/eaPNkSo2l7D91/ETdHO7QckUEREREREREfmv1MWpM93cbuBfx0/YPN4oofLTiZMYDI6a5iMiIiIiIiIi/9VcnLtgMDjy04mTjY7VS6iYP418im6uN1yx4ERERERERERErlbdXG+grOwUpoqKevvrJVTKysrp2tVFX/MREREREREREQEcHBzo2tWFsrLyevtrEyoXLlygzHgKF2enKx6ciIiIiIiIiMjVysXZiTLjKS5cuFC7rzahUn76LE6dO2l0ioiIiIiIiIiIFQcHB5w6d6L89NnafbUJlXPnTHTqdH27BCYiIiIiIiIicjXr1Ol6zp0z1W7XJVRMJpvfVRYRERERERER+W9ncHTknMlGQuX8+Uquu65DuwQlIiIiIiIiInI1u+66Dpw/X1m7XW9RWq2fIiIiIiIiIiLSmIODg+1FaUVEREREREREpHWUUBERERERERERsZMSKiIiIiIiIiIidlJCRURERERERETETkqoiIiIiIiIiIjYSQkVERERERERERE7KaEiIiIiIiIiImInJVREREREREREROykhIqIiIiIiIiIiJ2UUBERERERERERsZMSKiIiIiIiIiIidlJCRURERERERETETkqoiIiIiIiIiIjYqcOVrMxkNGLCgLOzoW7naSPGqob7isjJLsTk4YOflzuGDg3KMDhTe3qlCeMpE4YuzubzTEaMZ+rOr91vO6BmzzWdNGKyPt+hQZyVJkoKcjlcbMDT3xfPzk2XXa98kxGjqX5Z9dplaVMjnaza3dDJfLJyjoOHHwHezvXjsKcuR2ecbbSj0X1suN9GPZiKyPmqkDIXTwJv69noORjzszlYDN39/PHpal10g2cMzd/rShPGU+DctcF7RYO2iIiIiIiIiLSRKztC5dByhgU/z9aTlu3T6cwfFMzirJoTTOStmUb/24cwPj6e50YF03/EErJO1xwvYeOsQGallNSV+dMmZgXOZeNPljNS5tL/7iH89slx/HZUKLf+KpzF+2wkJ1o8N5vFgYHcPWqc+fiT4/ht/A5qay5JJ25EIANHPU9c/CQeuD2QpzYU2S7b8pN4wOrYr8JZlttEuw6stlwzirutYojbbtVuK4V/iebWu8fx0pvxPDcqkP7TU2rjLEmZS/9Zm+ribljX10voHxjKYzX13R7IU1b3tyRlLv0DA5m1xWhVo4mM+GD6N7zvVvWY9sXzwG3hzHoznrjJQ+g/YjlZNbe2soh10f0YOG4BcW8+z2OB1nXaeMYt3GtzGwKZ9XldjFlLA+m/NNvm/RIRERERERG5VFd0hIphwFRiw4KJez+b0Bh/8hLjWRf0GjtDLCMLclfy1LwSpm89SPTNmDveTw3ht4vu5Jv5QTQ1OKORgbP5cFUE7kDO0lCGfbyD6AGDcb6Ic0e/lkzsgIYXGdn6ynQSb3mNvRuH494BTJnxPDD2LbaGvcUQ58ZlN5bP4t8vJ3TLVPwaPgX/iWxOnghkE3fTKLAZQ41sPn42nag1h4kNAk5nEvfbVWzJH06Ud/O3qU4EryfHEAAUro3ing3plAyvH/fWP22icHgkngAnU/n4I9tJKrMSNi5fSfe4NNaM6QmV+aybPoetmZEEhDjD16uJ2R7JmkMxBHcA0654Hlv1BXnDI/FpVJblXvsv45uNITh3MCdrho2aQ2LAeqK8as4zkfzsAoYEvcWQro0KEREREREREWlTV3gNFWeGPD8fnw9eY116EovfdCY2Znhtxz3vqy/IGz6J0TdbdnToyegJkZiSdpNzkTUaOjvDGRPNdf+bO9dUZsR40vJTc8CURWaKO9MnmpMpAIagGLbtX0BoJ+uLTRyvufZkgwhCZjPXdzmzlma3KramudPTHxKXLCH5QBEmQxCxyQl2JFMATJSdNGI8mU/G9hz87vSrnwQKGU54yUqSLSNsCj//mJyHBhPcZHnOeHoZyFi5nMRd+ZRUeTP6j8nEhlgyTe49CWA1i5emkFNgwnBXDJtX2UqmUHevHzcnUwAMAyKZFJRNepb1iJ2JzJ2Wy6xnU7A9jkdERERERESk7Vz5RWl7RDD3GSPzJ8RSOON5Rlt1/I3FueDhXn8kyXXAGTtTDnuXMD48nGHDghn2ionoyYObGCXS8rmJ0YH0DzT/1E5DOVlCIT64u9YvytC1wTojmQsZFlhz/RKy6p3tzui4ZQSvfJ7F+4xcvJ5EJabx3v2FrJ8Tzq03BzL2g1w7kzSbiHtyHL99cg6Ls7wJvb3h3Qpi1GR3ln2aiakyl+T3YdKYkGZGDBkIfiGNTyY7kxk/jrtv68ew2FQKKy2HvSL537RlDClKYtbIfvQJjCLhQBMR27zXBjAAVfVPDY5+l9jS53nuL0Wcs6v9IiIiIiIiIvZpl6/8+D06kVCCmBThX69T7ukTApk55FntMxYXQk/neueZKq0635U0Th54P0L0MzGMusWI6TcxzB3QzGShFs6NXn+YI9+bf1b9xpJo6OaDT6d0cv9hVbOpiKxdmeRZ50ZC4tj7fc315ik19XQOITYhhK3Px/PFiaZDbFalCWOFM8ET3mLNtv0cSZuNIX4Uy6yXDzFhlWAw2bhhEbyenMzm5GT2/imE5LHLSWtwTt+HxhH60Wo2bkximfsjhNocTmJV5SkDfiNieG9zBv/4OoHgXdOYX5OQMhkxdQ0ienEi2/Yf5m9zDMQ9vrxBwsnC1r2uLKEkD5w7NXiuHbyJ+sN8WLCQFYeaj09ERERERETkUrTjZ5MNjVZwcQ+LIDw/nriPcjFWgqkgncXvpBIw+RH8zGcQeKc3GStXk1FiAlMJGatXkuF9J4E9rApy8yb4riCinplP6F/iScilaS2cW2/KT82cnw7+hE/zJvHVeNKKzHHkrF3Ibxfuxlgv82M95ceIqZJGDEGzeTuskLQDrb1vDZzZwUuB4SzeZc7kmOtwx2CJw/2OO/HJXMnHu0owVZoo2bWaFZneBN1hY8xOpYnCH/I4ThmmhkmXroMZ98QOYp5dTeiTj5jXUmlSLgnhgTy1Lt8cT5W5MGdLUMbtC+g/bAlpJ811mgBcDbZHvNi612uWsKw0klFhNlbF6RnBwgWQkd5sgCIiIiIiIiKX5IouStuiroN5/dP5zJ8ziv4LTdDJndCZ6/lwdM/aU3wmrOC9H6YxYdBKTIDBN4K3V0y0vf5GjwjmPrOSYYuSCP8gAs/mWtvEuYnRgSTWnBMSx17LIrN+0St4759zmHVPP4yAs38kb384mwDrrEDmQoYFLqzdjF5/2MbisgYCZrxG9PZR9UbmtJrzYOYuy2TW3ED6nARwJjjmY6J9LcdvnsiqZfk8NSWYhDNAJ19G/2GFedHfWit57KaV5j929SdqmdXCulZxBo+cimdSCeMGO8PJhset+RL9bgxPTQ7n1nkmwIDfmHd5b7CzJeQ5vJc5h1mBfTECdA0i9k8TLUmzxvyiP2ZN5VyesrrXr382n+AmBh55jpjPwi8yiWkuRBEREREREZFLcE11dXU1wOH8Avp6e7V0/tWj0oSpylA7EkOA0ybo3PQNMZ02YWjm+GVhMmFyMNRfW6ZeTGDofGVDEhEREREREbkY1rmTq2uEij06NN1J/6/VQrLkiidTAAxNTOWpOaxkioiIiIiIiPwMteMaKiIiIiIiIiIiP09KqIiIiIiIiIiI2EkJFREREREREREROymhIiIiIiIiIiJiJyVURERERERERETspISKiIiIiIiIiIidlFAREREREREREbGTEioiIiIiIiIiInZSQkVERERERERExE5KqIiIiIiIiIiI2EkJFREREREREREROymhIiIiIiIiIiJiJyVURERERERERETspISKiIiIiIiIiIidlFAREREREREREbGTEioiIiIiIiIiInZSQkVERERERERExE5KqIiIiIiIiIiI2EkJFREREREREREROymhIiIiIiIiIiJiJyVURERERERERETspISKiIiIiIiIiIidOrR3ABfDVF5M3je7yfjXQfYdL8BYWUzG+XIAPK/ri2eHLvh096PfjfcS3N8LTyfHdo5YRERERERERP6TXFNdXV0NcDi/gL7eXu0dT9NMxWRlbOBPBzeQXFlh16XuHe7kiX5RjAn2w91wmeL7T1Rpwmgy4Ny5jcs1GTHijLOehYiIiIiIiPyMWOdOrv6EyvlSMj5/nXk/7CbvwiWWda0r4b3nMe+hANyva5Po2k9BKos/zQHfCOY+2LPtyzdls3jYKJYVBxH/WSKj2+rVOJbChPvnkGaYyJqMGIKvZFLFmE3iynRK8GPU7MF4XsGqRURERETk6leyL4nEP6eQllcGLt6EPjKOqBH+uP8s53ZYVBrJ2bKShKR08spc8AmJIHricPycm7qgiK1LkshpssAG/SljPmkpq1m/PovC5u6Z9Xk0H4fpUAqJn+VhxJ3QiZEE1JxT26ez4XL1jRuwzp1c1a+F8dt1PJO6nK2XmkipcaGU5O9nk7w8gJcHv0zUbU5tVHA7KMli2dKV8LuQy/PSOBhwNhjA0BOXJn/RLoLBQHcDGDzccXFow3Jb40we6UuXk8ZEQpVQERERERGRGpVFJM8KZ9bnRqudueTsSmHZ+xP5ZGMMAW09cv9KqCxi3VNDiNluqt2VcyCT5JWbiN+awGibXckSspYuJ6HJQq36U0WpxIyfxrr8mmPme5bwp6n877rZdfesKIWnwuew9WRdKTbjqCwh4725PLUkE/OTCKHn49YJlTy+WLqcDFthXa6+cTOu0oRKBTmfP8fk77IotHX4Wj+iPB/g/90SQKCnB+7O9ddIMRlLKSzMYv93mWwp/JK0hgmZC1nM2zqavx95m3ce6otmntjQwZfozQeJbutyuw4mfv9h4tu6XBERERERkYtk3L6c5z43gnckqz6eT2gPwFREWvwkJny0klmrHuFvM3zbO0y7Fa6bQ8x2E4awODYvi8DHwUTeX6YzLDadmN+vJnBdJD6NsgL+zN2/n+kN9palL+CeuSkYhgfgA4CRrW/OYV2+gdD563l7rC/OVfkkPzuJWSnLeW7NI2z7nXfteVtPGgiNS+a933hj6ACFa6N5IDadmDdTGfqHwThTQvJTwczabsBvTATd1yaR1jC0Y/lkAJ4zEtn8pF/9Y45tORKgda6+r/xcKCVj/SQespFM8ez8KG8MXsuhGct5eeSjDPHzapRMATA4u+Ljdz+jR87jTzO2sW/wLKI7NxyNUs7W7yYxZv1ujG01AqY1Ko3kpCxhVlQ4w8LDGTZlIYm7rAYslaQSEx7OsPCVZFldVvJ5LMPCw4n5vPHgJtOhFOKmmMt7Kj6FHKPt60oyV1rqncayTHM5Jbvq9sWl5FOXt8wmITycYeGxbLWq0pibwuK5UebYw6cxf00mJZWX3r565UbNYXFKLkarcq3bYcxebSk/ilkfNKjfLjVtXEmWMZvEuVGN4qrnWCaJ86Y13fYW7k9hyhyGhYczdlVuvWtMmUvM57+SjhEREREREbnS8rKTMAGhk6eakykAhp6EznyNhTOmEu5qqvdv9Zb6L0DL/YeavlFsKoUF6eY+XWxq7XSWhnUkbM+vX8fpfJI/WEnyIRO25ZL8fjbgS2xMBD4GoIMBnzExxN4OZK9k6yHbVxq6OuNs/dOlhLTVKYA30ycPxhkgfxPLUkzgH8PCJ3xx7gAYvAlf8BYLZ0xlSGej5Z4ZofdUps94i1hLMgXAM2QwwQCnymr7oecMg1m4OYPNcRGWpE19xuPHAfDx9KkfX1fntl/7sxWushEqFWRtnMXjPxbU331tX2YEvcHTA13tL/JaR9z9HuVFv0eZvHc5MzPXkWGVQMn68Tme2LictSP9rsBIFRNZi0bx2Af5GHr4MyTInZz01cxPTSJ9cRqrHnWHqjKOH8glh6D6l54pIedALt3PNCiy6GOeG5lKRm9v+CGXnANz2Lo9p25ImuU6ly9e47cpOzje1YjxZC45Y/MxzggicekmnHuYKDmWS87vd3DcIYO3HzJn9koO5JJDd8qqLNHvi+exUSvJ6+ROwIN30v3/dpA4L5V16W+xM2E47hfZvpKUadz/+1SMOONze0/ISWHZrhQSNsWx7b0IPDvUb8djKamU9TCYYz6Qydacd9n7B8svtZ3MbexJ4rwlJKeYANtZZ1P2ch4bt4ScM+Ds7YvnaUvb/xzDJxsn4teh5fvjeUcAhgMpZJxMJ2eCL36WdyLj8+XkHIDwyQEX1QYREREREbk0nj4hQDpp7y8n7c4YQntaeodd/Yma7V/v3Lr+iwF3X29cLP2XxJ3vsvMNc7+krv9gPqd7qblvkPgnq+lDNX0jp60snpRCcj4QUla/jk7u+Hm7Q14qcdEprP/dejbH+GMA8tZMY1Z8Pux2JnhVBO4NG3Ush6wioFMI/bytD3gTOKQnHCgiK7cEfBtd2Ygx9V3issEwfA5Rli5Tyf/tIAcIjgjB05hPWsomso6Ds2cII2bMtlpDpSdDZs9mSIMyC3elkgEYvHpa+kHujH773WazFKYzpwDw6WYi6y8rSSs0QueehD4SQUCPpq+7XK6qESqFqbN4tKB+MsW942j+PHbFxSVTGnAfOJU/j32dGR3rj2rJKpjK5NSCJq5qS7ls/SAfmMiqv63n7cXvsu1viUTfNRifk3m2F9Zpyee5dP/TfvZuTmbv12nEhxkgfyWvbiyqd1pGdncWfr2fb/YfZtuL/kA+CRsMrPp6P3szDvK3uBDARPKGHU3GkfPlSvKA6IQMPln8Fu9ty2DN74IY4nWcw8cusn2mTJY9n4qREBam7WdbcjLb9pjbYdoeS9yW+mM2MrJdiN1zkL0Z+zmSNp9QwJSSRNpF3bwaqeS4LmPvocMc+T6GgEbHi1j3ivkvw/A/ZPDNtmQ2/y2DNRN6YsqNJyHV2Lr74/Ugo0KAoiTSagapmLJI3wAQSXiY0ikiIiIiIu3Bfehs5g4wQP5qJtzTj1uDw3lq3mqSDzToaNT2X/yZm2zuh23bk8bCEDD+5TUSc6Gu/9CT6MQM9m5OZnPGfj75nTfkr2RWgxHrZKZijEzmm0OHObIqAveaOjoN5+20DDYnJ7P5b1uJDzOQ98EcEg6YL/O8K4Iht/sSPjyocTIFoCjfPGVmYM9G60d2dzeP/0jLK2p4VWOVuSQuScGEP7Ez6/5HduEPmeY4zqQzIXgIE+YtZ9nS5cQ9O4qBQ+PJOm2jrJpROQ8Ecs+zWfiNjWPz00F1gxtaGPJRWGiuM3H6EB57Np5lS5ezLD6Wx+4PZ/G+pkbqXD5XTULFdGA5M3PqryPsfsMs1o6bSnC3Nqyo2508PW4Fb9xQP6mSljOPpQfs+xzzxTB0Akhn07pM8o4ZMRmCiE18i9gJTfwStCRkItEDLK9fh56MnhAJQFZ6dv0ExkMPEmx5833uCGi0z/Muy3CrqnPNBG+uJ23DajLySzCaDATHJPL2ixMJ7nGR7cvaQeIZYOzYui8JWbVj65e760+DeegRQmsK8grhQctAl3NVTYfdsiAmTQxpeuXuoky+yAZuj2H6cEvlHZwJjtnKN/v38z/3Wm5ii/fHnfseCgGK2PqVZdWmAztYdwYMTwy+sl88EhERERGROp19mf6/GWxLiCH8Lm8Mx3LZumYhs8KDuXXUcnJqkgO1/ZepRN9e1w+Lem8/3+xPJsobq/7DREbdVZN+MBAQOZFgoDApvcEXdCKZNNYyZcaqDvcnIgjtYMR40ojxlDP3/SYCKCIzx5wEMfhO5L3kZN5+9PIuxGpMXcGyfDCMncpo65EuJnMCY90rq/H8QwZHvj/MkW+38vbwnubE0dJsmkpxmEqNgInC73LZ/2PrEyE+Dy8jPmYqsX/cyj8OHebIof1snh+C4Uwuy55fTd5Ft/LiXB0JFVMOH+xcV2/tCveO4/hg1KP4XI55UJ29GD3qbZ6u14EtYNHORHIua1LLn+l/mk1A13zWzYvigeBAbr05kAemLCfjYkdY3OxTP1HRx5tQaD4xYksHWpzyFPC7j5nr70zeXxYy9oFg+t/Wl/4P1K3HcjHtK/nRkljo7FK//pp2WM2na8zQctCtYmg+E2pZ+Ag3Ay7W+zsY6s3Va/n+gHvYIwwBcjZlUgjkZH6BCQOjwwK0OLKIiIiISHvq4IxP2ETeTtzKN4cOsndbAtMHGDDtW8JjizIx0Uz/xWBZx8NA0/2Hnj7maf9FxkZ9nOut+iM1dZS8F0X/wMDan4FPrQYg44dWdh679jTXd8JEWYND5yrNEfh5tDBK3np0ypMhDdps2RobQ2yYpVdq8Cb8+amEAoWrGyaOAPfBxCcns23/Yb5ZE4nLvtXEjIwno5X9cOebQxj9u9lE3dXTvBZLB2f8nrCsCZO/m/3HWldOW7kqEiqFO95lkfUNvPZO5oVPuryfpersx4xHnyXc+g6YPubNHZd36o9hwFQ+2XOQvdvWs+qNGKLugrzUJYz97XJymllcteaFb+R0g4RDacnly8p19mf6J/v5x56tfJIQR+zYIMhPZfHYcSyzjFqzt32GTl3Mf6hskAAqLrL9Kaz20MnZPETOBM2mqVpxf+h6L0MeArJ3kHEsl7SkIugUSfidSqeIiIiIiLQPI3mZmWTsyqawpnPVwYC7dwhz35pPMGD6yLxeSJP9F2tN9R9KilrVV6upw+eZ9Xyzf3/jnxn+LZRg0bMngQAHssirN+zfRF6OeepMoFfzo1uaHJ0CePa2TBdomFzq6m5u/xnLzaw0mUfZnKzfp3UOmsikEODMatIPtK5JppPmETumen1LZwxu5nZx0R8suTjtn1A5vZuPvrXOWzkS9et5hHtchrqKvyRhZ3HdtsfDvPLr++uN8Ej7dgMZtuZ6tYWT+WRsTyIhJR9nb39CfzORhauWmT9NnJ/NwZ+oe/nI53DNdLbKIjJSM22XuWGHVbwmMj5NohDw/LXfxU0hapKRvF3prPsghTxnbwLCIoh+OZH3JphjzcotaV37GnD2CzCvWZK6o959z9m1CdNlaUcrVJooPJBbtwK3tz+hnYDMJNLy607L+2gUfW7qy9i1RbTq/gDgTOhDw4F0vnhtBeuLwHPyIwRcZctDi4iIiIj8N8lbG8XYqHHMT6m/poipMN/89dnbzQun1vZf1qaSZtUPS5vXjz439SUuE6v+QyoZVsUZd281r2lS+9lh22rqyPsyh+Nd6r5iYyjawZasHPJO1iUq6vVbGjIEEPQbA5DC+s+tAinaxMdrgE4RBAVYUiGmInIarhfT3OgUwD3EPPqez7+o15crSd3EOut2ntnBS4GB9A+czjrr23s6h9y9AL707NrMDakrmY1zA+kfGM7ir6ySM0XpfJEOdPLG8wp3Htu9G1eydwMJ1p8t7jyV3wU3/MRxGyj+kmfXv8y6C44cqEzknVBzxsY5eBLPHPySZ2tegAsb+GhvFMGhl74IbiOdjvPF72NJPONNVsk0xvl2oTB9OYkA/vda1tkIIGi4gcSUdGLCh5Ae4svxzB3g4QvkNi7TI5O4EdPIfMgHfkgnMaUIOoUw99G2/ka6gePbpxPzkQmfrONMj/TF+dgOlq0F8Cfk1+7QKa/l9jUcguUVwQu/W81jH6xkwujjRD8ZhHtWEnFri6DTcGLHXPlvvZdsnM49z6ZD2FvsTRiOuyGISQtCWPdsOvNHRZEf6Y9zaTaJa7KhUwijQnoCppbvj4Vz2CNEkUJiSgrQk7khP7/v2YuIiIiI/OdwJnTcRHxSVpL27BAGrh/MiCBPTLlJrNteggkDoU8+aE4O1PZfVvPU6DKiwjwt/TATeE9lSABg1X+ICY8id85wfI+ns2JpKuDN3MktfKG0to6FPDahiNgn7uX6/CQS3kkh54w/C9PWE4CNfouNdg2ZOZ/Qz2NJix3CsMxIQt2Pk7Y2hRwg4JmJDHEGKGHdU6HEpEPo4gzz11kB45Z3WdzE6BQAug4meoY3W5euZOw9uUTV9pMyMVm30/leomZ4k7w0nZghwXzxaAR+hkIyNqSQdQYMYZMYaqv8RtwZERXJ/PTVJESP4viYEDw7G8lavZoMDIQumHjF16Vs54RKMX89vNtq25EZAx5utALxpVdTk0wBqCD56yi4kMg7YR6AByMGPMqbOzbULuK69fAOCkMfbfs4DEHEfhoHz8eTGD+HreaduIfF8MfFkZb6nBny4jKii+aSkJ3P1g0lBMd8zELXJTyQbSOhEjafVbesZtjc5ebFW7sGEfunZYS3+SejDAQ/nUx85fPErYlnVqplb48QYj9eTJQXQGva17jcgKc/Zk3nuTy1JIVlz6aY74J/JG//YT5DWpWpbFuGru7mX3yvbrV/0Xn+ZhmbWcisBUkkLjWPFjL4RvW8sB8AACAASURBVBD/1nzLvW7N/ampIIgHnzCQ+JEJekYQevsVa5qIiIiIiNhgGBDDJ5/05KVXlpC8L4WEfZb9PUKIfnl+3RohDfovCZYumvNds1m1eCo1Az7q9R/mZdaWFfv+MqJb/P+p1nWsJGbXSvNe3+EsfO212r6FrX5LIz0jeO9TE889GU9yykrzmiad3AmNWcF7T9RkMQx072EuwcfyXypzSXwzFZoYnVIb54z1bPZcwkuvra7fT3ojhtG+9c/7pPsCXn0rhbQ1y80jdTq5Ezp7Ma8/1foPtBhC5rNzjTvPzV1Ocs3Xkrr6E/XGa8T+5vIuzmvLNdXV1dUAh/ML6Ovt1dL5bav4MyavfcPS8Qaum8TnU8fh15YTkeolU2o4Ev6rulEqXDhMwvJJvHK+5ngA74xZcnmmHdUwGTGeAUMXZ/NiOjbPMdUt9NOSShPGU+Dc9Qqk5CpNGE+ZwLFuQdZGWtO+psrtZFnMyU5Z8X157IMmDobEsdfWt9mb0sy9N500Ymqu7a25PyIiIiIicnWy9GVa/Pd8K/svLfYfmtNS38KOPqPJaMRU1XQfzZ7up83yW9lOk9GICQPOF9Pps3baiLGqDcqxk3XupF1HqBiPZNUlUwC/Pnde+WQKwLV9Ce7jAYdq1lfJYt+RcsI9LsPUoxqGViQN7HmbOxhwvlKjOToYWk7ctKZ9F1NuM9z9pzJ9RhMHu/vY9xWdZu69oatz82VdYjtERERERKQdtbYv08p/97fYf7iUOuzoMxqcm4/jUpIp0Pp2thRHq3V2bn7q1BXQrgmVvGNf1tsOvrENR8i0Npli4XPjnXBoQ+124rECXjZ/ZEp+JjwfnM3cB9s7ChEREREREflv0I5f+Sml8KT19p3c7unYNkXbmUwBMHj2Na9QXOPkD7Ty694iIiIiIiIi8l+mHRMqpzh33nrbq20+cXQRyRQA3D3oa719voJmviwuIiIiIiIiIv/F2jGhUs7xsw12NRFNYdrHbC22fayei02mAFxrqD+P62yxRqiIiIiIiIiIiE3tmFBpncLtz/Ho1yuYvH5e80mVS0mmiIiIiIiIiIjYoR0TKk5079hg14X6m4Xbn+PR/9ttHily4W9NJ1XaIplywYTJerujR+s/sSsiIiIiIiIi/1XaMaHSheuvs94uoLDhHBtHR6633r7wNyZveIM066RKW41MKSnmsPX2dQ3qFhERERERERGxaMeEiiueXa23d3OgsKLeGZ53v8yff3Vn/ZEips94csPbZPxEm07zMRUeZqv1jq69NUJFRERERERERGxq1zVUfHrcX287418Fjc7xDH2dDY2SKht4fP1UnmzDNVPy/rW73nZUDy+7y5Cr3NlyKqraO4imVZRXtHySiIiIiIiIXBXaNaHi3CeAIVbbOUd2k3Oh8Xm2kyo5pLXVArQXDpNxxHoeUQAD+jjZX05rVB0j68MX+H1kJBMin+HdLXmUt6aTX7KF1xduofSSKi8nc+FDRH6YZ4mlgvIGX1qqKL/4pMPBFZGsPWDjQJvEnsvayEgm1PzMiWNta+8dx9j2zEMMjZxC/OZjFx1B6ZYFvL7FRitKtvC6VWwvvvIhm/fZUc/ZbBIff4iI6Akk7mumnsulLI9ti58xxz/lBdZmtC72Jp+3XfJY+/hDvL693LzZMOlVVUH5RSeaStmxcAE7Gn2uq5wdL1n9HlyMS4pLRERERET+E7TvV348Arivs9X2+US2fG27k+IZ+job7riziWk4l/Y1H9PXn/H+easdne8h4LJ8GKiUHS9MYK3DWOYnrOKP784g4OtYpqzIbfnSqgpOHL/UDpwTQZPf4dWRPubN7PcZ+n621fFjpD4XS+rFfi+6/BgnTDb2t0nsJk786MSweX/knXf/yDvPjsAps5X37tgethWP5Y+frOal8B4XH8LZUk6ctdGOqgpO/OhL9Lvm2OaM8aVi00wi386mVa3O2UWCXyxJf15N1IBm6rkcqnJJjI7l4K9m8E7CKt5ZMBbHtRP4n9RWJHSaet528WFY3DtEh5gTmAffH0GC9StZsoX/ee5ik3EVnDpeyqlGSTcn7p1q9XtwMS4pLhERERER+U/gsGDBggUApSfLcHO94QpX34Ubjf/gg2NFlu0q9v7kxm8Cb8PFxtkuNz3A0DP/IOVfRZyp3Xupn0Yu5pOUV0i2SqgM8XuOsX0afoKoLfyDz141EL5kGF7XOeBwvQue/oO4uaMTN3g44VCWzacbj+HZzwNHAOvt8u/Y9jf49cAytq3awK6803Tz6sMN1wMcZcfa73HudpQtH27gm1I3et/kSvnuNazeuIOCKi9u8zR3WMsPb2fXSS9uO7eLhP9N5ZtDhVQVlWK41YvjGz9kU+YBCkpL+OG0B4HeLlBVTkFaEkmf7eDwj4784mYPOtak4arKOfzFGj7d+jXFjl50KkiiqFcUA3/RoNnNxF6a8SHJP3jQz6tmRFApB9espai7Px71Bgkd46uPDuA2Npx+3RxxdHLn5gA3Dr6ZzS/GDMANoCSPbRvX8NcduRQ7eHDzL5zM93DVp+zK/5Hykjwqug+id9cmzq2tKpvNa//Cjr/nUdH9Jjy7OgJw9tst7OJuHritweil8u/Y9sk5Bk6+m57XO9LRtSe3hYbhtnE6mwwRBHk5mE878lc2r97MrgPHMPziVro7AUf+an4OPxyDolIMt/rR5UiDepqIpzw7iczTXpzfU/cMbvaw8709nsGafXcwffogXK5zwNHJndsGDKJLp454uHakOHUpWdda7hnU2z6+O5GCXiO58Zs1JG39uv59LMvm07+dxrNyD5/+eSuHqry47RfUvi+lN/TFu5u5HSe+WsO3HQZh+Gopa1K/4/t/llFc4sgtnsfYvOpTduUe4YT1s6s6xsGNSSR/uYuCcg88vVxwrH0nj5H15w/ZvCOPCo/unP37Hrh3KDc3fGQ1vwcejs220eb7f8ryTjWMy0pxahIFzm4UbayJ5SY8XRzr6rf1Lhzbw9rkH+l9R0/z73/eFhJSy7nF8vdBRW4ya/6vE/1vsvW3o4iIiIiIXAnWuZP2HaECuA98lGjrKE4v54OM8ibP9wyzHqlyqckUMGas4M3TVjuufZQnBrpedHnNc8Ojz04++zS3bqqKUy/6+fcwd6DOHmX3zqN1oxoabv+4hYTEo9wcHsHgHjnET1nKwXKAExxcu5hln54mMDwMpx1P88yUF/hz2SCGDfWh4O0pJFqmZlQc2cnuI+Xg0ovAW9yguy+BgT64OTridosvXk5OePkOJPAmJ6Ccg0unEJ/rweCIcPqV/S/jZydb/q98KTteGMVbeV4MDr+bX+x/h2UZzTS9idhdezqx48Od1E64OraTxO1OeLRmIMnZU9S+KceSefaJRfzQYyiPRQyCv8w0j7Jw9OBmXy+cnLzoFziQ3i7NnAvwYzLPzk6m4lfhPDbUlazYKSRkX8xoEVeChtzF5q9zAKjYt5SZcTl4DI1g2K9KWTtlJtuOYeM5NLxv1vF4cDBuCu/uM7e64shOEuYtItM9jMeG9uDwaxN4d5+dsbq44XFkC59kHKubauPuQ4CP+XfgRG4yB0/Und5w++CKd9jheDePhf+Kik1P8+ynlulCZ4+ye8UiPsruwb3hAyl+fwpPTTPHOiwIts1cyLbS+mV2uWkgN3cHt1sGEniLB462nl3VMTbPfprPKn7FsIihdNkfy8zllpFAVbkkPj6TbQ53MSzcnxNrF7H2R9vNrv09aKGNh1dMIT7Xh2FREQSWf8jYN3ZRYSuuBk7kriF+3hpODIpgWFAFG6JjqZltVv9dqOCz2TPZ/CPQowsVSZvYX2ape/v7JL6/hQOWaXmHUt/nhOMljLASEREREZE21e4JFTrfyRO3+VntqCDxq5dJLm7yCjzDXmat3z2MvsRkCsWf8eJXX2I9wyX0tkcJ7tzkFZeoFyPfiSPgyIdMGf4QkVNeYO32o61cBwQo68EDkyPo16sHXmEziBm6h8RUSy+tzJ9hk+/Dq5cvw34TxkGvoUQP9cHDZyhPjOnFwcMN1sVw9SHAtxf80peAYH88Ojri4e+Pl4srXgMGmTvUR7fw7o9jeXPGfXj16EW/8fOJueFDNucCR7bw0anJvDrjPrx6+RAwaSaPN7eOb1Ox97qbhztuIfOo+bTi9GRODR6E7adaSsG+PWRl7CErYwsJ896HqHD6AvQI55WNfyQ6zAfXHr4Me3QQ23ILoGMP+g3woZuLD4HBg/BybeZcKshKXEO/2AWMHNALV5+hTFsQRua6XTSd4muao1MXS5LiKJuXH+Xx12cQ5NMDjwHjeWmGKwnJuTaeg3UJFWQlvo/H1FhLPPcRPS+cg8u31Cag3EZOIcoSa/QkP3bst7UuSDnF2dkU22pEx7uY/dF4unwWS8TwEUyYs9iu9V9Mg0YRFeaDay9/Rj4/BY/3kzhY8z67hDFyjD8evQbxeHgvTMETiBrQC48B44kams2h7+uX5eQziH6/BA/fQQT498DRxrOryFjF2ltjeW6MPx49fHhg7gIG7/kLmWVQsXMjHwU/bz7Wy5dhc2cyuNUtsaWUH3Lg3sGD8HDpQd+od9jy7F0242qsnKDxc3nA8ryjRx4l6//KMb8L2QybV/MuRDB7ag/eTdxFBb4EDc4hK7sCOMqBPWFER3xNVg5ALlnpd3HngIYZNxERERERaS8d2jsAAM97p/F03lQW1azHcGE3LyevwHPcJAJsJjcc8Rn8Mm9cSqWnc1ia/DbJ1gvbGsbxzL2X+es+Tj48MPdNHpgLFUez2bziaabkPs+qGf602FXy8aO31dQFL99BZO6q6Vo74uhgXU/nlstryfFjHMzZyczINbW7KkrLCXoEOFPK4b6+1PUlXfH4JRyyO3Z/Qoa5MTP9KCOjIDPVjZGLejVRSDkFuXtx7AjF+5IpDvsj743sUXvsxM5kPv3rTvYXlEN5KYTc12Q5ts8t5Z9F5XwSF0l6zb2sKqfAdXzr1kJpqKrmqhMUH8nh05mR/Lnm2NlSiu8Ob6GAUv5Z5EPfvlZPspcP/Y7s4gTwC8Bg9cydXHtQnGtjUZOzX7M2Jg7H+RuZFmzjrXAfxJhXBzGmqoLSI7v45PUJPPvjKt5oxXozgb5W65B09KGvz3p+KIF+AI6OGKzO7eZ06cmA8pJjFKfGMcFqNNSJEleiz0J56TECe1ml4hxccf3lpdTmyr3RYTwz+yE29/In6O4wRobf12AqWjOsno2bey/Ky8sxvwv+3Gv1ijv29eP2tScoB/oODCN1Vw6zbz3K7pv8eWUgTNifyzS3bNIH3MOYyzETUURERERELspVkVDB4Mfv7h7NX79cR5ZlV8nZj/ndejfWjnoUn7YeMXK6gHXrZ7Go3sKfXjx9dxR+hiavunSWr+o4WTqWjr38GTl/LsUP7eLQDH9zJ7Q5JaX1RkpUlJ/Co6MBuOSVQZsWMpdVzw5qvH8fUFE/zVDRXNahydjBadB9/GLmTgpCHNnmdh9vNjnjqhf3RM1gWA8g15HIBds5PNaHvg5Qvn0Rz2Tew5vPv8M0J0fYt5S7d9kupflzexG96I8Ms9ERt28B0goOZu7kAd/JwGEgjDkfzSXAoaXrGpdDg6/e2J0p63gXs7/4vIniyymvcsKpI+DgaB4Fs+AEv399D6XhLSV84ERZOVCTYaigoqwLbh2Bs81cdIn6jV3EHyIaJ3tKAVPD0V6XuLav4+3j+cPn46koP8qhT9/n9zNP8IdVEU2MoGqtCvPIpdqkXQUmB8tD9fNn8Bt7yfQ9itPA53H070zQ8mwy3ffQe2D4pSdJRURERESkzbT/lB8Lw+1TecfPr96+kn+/zZiPl5PxUxtW9NNuFn08iWf/Xb+nFer3MjNuv8zdlbLtxD+2iMyyul3le3ax4w4feoO5g/VjHj9Yjhenbyez3vVbSN1jSUtUHSM1aS/Dgn0vPh4HcCw9adXndMTgUEp5TXx+/oxM314Xb9Uxti1eStaxmmNrzGs/AJT9lR3bm6mrudhdw3j41iTefT2Zmx8Oo1UDAHzHMu2OZBKSzdNTKspKcbvFFw9Lsurw3p1NXtr0uT0IvLuCz1Lrps1U7PuQJUl59vXLq0o5/Gkc8RlDeTzMCfAjaPB2dqTXpZSKkxeT0OLnic3xrE2q+1pQcfIaNof4c7M98TTnuzVMmPYhBVaJiOKdOym+ta959JGDIwV5lvlYZXvYkV7/8m3JWyi2XFuxJ4m1HncReClrpjo4Ul5mlXpzAMrqvtTjOuBuKrZsqYu3PJu1ryRxuMJyLCnJsq4Q8N0WPmvNl5GbbONRdrz0Plnl4OjUi34jwwj88RgnbMTVeuZ3YW1yzbMv52BSEhXB/ub73XEgd96xhSXLTxFwhxM4+BFwUzLvrjUQNOAyfcpdREREREQuytUxQsXCc/DbbCifxKMFBbX7Ss6u4/E1B3n63leY8atLWyy2ZO9yZmauI+NC/f0BXst5f/BlnuoD4DqUOc/n8sLjD/GuqyuOZ0spdgrjpUVDzUkE9zCiw7cwc8RD4OLKyKgwgqyv9w3Ha+9MJiytgPJyuoTH8ebtlxDPHUOZ9v5MwkfsJuajWO51cSUowp+Zs0ewY0wc70XdxbTXD/PMEyNIcHKqq7MHwF1M+58cfj9tBJ86OVHhFEb0WF8ONlVXs7E7EnjvQF58Bd4c1NqklhNBkyaz4YlVZA6OJWjwePpFTyEy2QnHKkeCBjWdaHJt5lyPiDjGvPI04Y+BW8cKTlT5MmfR+FaMDEjmqdBk8x87unJv2HheXTUU8wd+HAmYsYhDT0cSvsIJN8o54RLOokUtT6nxiIgj+pWniXgM3BzN172z6K62G6lw+1jeHPwaM4ePwM3VCcpLOXHreN550XxP+o18GrenpxCWCE5+k4kOhgKry8eEOJIQGckPDjX3amjrEmJN6Dd0PAkzRxGe+TRrXrwPJ/e7efSOmUx5bCdPxK1ijG8EL41ZwAuPjQInRyrK4fapixjjCPSK4KWxLzAlchRuTmC4aQoPh2e3XGeTbezFzXcV80Kkpa6zjgS9uMg8kqxRXK1tYc27MIXwJCfcKsrhjpm8OqNX7fHAuwZS/A8vbu9h3r59YF8KigcSeLnWyhYRERERkYtyTXV1dTXA4fwC+npfgaRCSy6UkvGXWTz+Y0GjQ56dH2XG/xvNiNs8MLR2bM2FCkq+/Yz3/76ChNONV+UM+OXrfPSbO3G+wmN1KsrKqXC0TLWw11nztY52Tx+5eBXl5dDRRp0NpjG1qInYK3bGEb5/KFtm+V+eOO09t6qC8grHi3s+zVdKOU7YvZyI9dScy6GqgvLyCuh4EbHZ+w60kYqyChxdbNTZimdXkBjJRz3+yEuDW5H+qaqgvBycbNV1Kc6WU+5wEfdbRERERETajXXu5OpLqABQQc7nzzH5uywKbR2+1o8ozwf4f7cEEOjpgbtz/R6JyVhKYWEW+7/LZEvhl6RdsFWIE0NueZt3HurL5Vw2RVpylIOf7uGztVvo+/oqRvZp73jkP135vg+Jf2MnAYtWMbKp9Y9FRERERERs+BkkVMyM367jmdTlbLWZELkE1wbw8uCXibpNaxK0u7PHOJhdgOGmQfRteQaMyCUrz9vDDw5+9Ouj338REREREbHPzyahAsD5UjI+f515P+wm71ITK9e6Et57HvMeCsD9ujaJTkRERERERET+S1jnTq6qRWltus6V4PDX2W4qJitjA386uIHkSvu+here4U6e6BfFmGA/3DW/R0REREREREQu0dU/QsUGU3kxed/sJuNfB9l3vABjZTEZ580Lznpe1xfPDl3w6e5HvxvvJbi/F55a9VFERERERERELtHPa8qPiIiIiIiIiMhVwDp3coU/FiwiIiIiIiIi8vOnhIqIiIiIiIiIiJ2UUBERERERERERsZMSKiIiIiIiIiIidlJCRURERERERETETkqoiIiIiIiIiIjYSQkVERERERERERE7KaEiIiIiIiIiImInJVREREREREREROykhIqIiIiIiIiIiJ2UUBERERERERERsZMSKiIiIiIiIiIidlJCRURERERERETETkqoiIiIiIiIiIjYSQkVERERERERERE7KaEiIiIiIiIiImInJVREREREREREROykhIqIiIiIiIiIiJ2UUBERERERERERsZMSKiIiIiIiIiIidlJCRURERERERETETkqoiIiIiIiIiIjYSQkVERERERERERE7KaEiIiIiIiIiImInJVREREREREREROykhIqIiIiIiIiIiJ2UUBERERERERERsVOH9g6gOafPnKX05L8pM57i9JmzmEwmqqouUF1d3d6hicjPwDXXXIODw7UYDAY6d+qIi3MXXLveQOdOHds7NBERERER+Zm7KhMqxceOU/yvEs6ePYeb6w24uXalt+cvuf56Aw4ODlxzzTXtHaKI/AxUV1dTVVXFuXMmTp0+Q1mZkaOF/6Rjx+vxuNEdjx7d2ztEERERERH5mbqqEiolP53g+4Iirjc40qvnL+jm1rW9QxKRn7FrrrmGDh064OTUASenznjc6A7ATydO8mPxMY7+WMxNXj1x7+bWzpGKiIiIiMjPzVWTUPnu8Pf8u8yIdx8vJVJE5LLq5taVbm5d+enESfKPFFB6soxb+t7U3mGJiIiIiMjPSLsvSmuqqCDrmxyqq6sZGNhfyRQRuWK6uXVlYGB/qquryfomB1NFRXuHJCIiIiIiPxPtmlAxVVTw9YFvce3qwq03e2ttFBG54q655hpuvdkb164ufH3gWyVVRERERESkVdo1oZLz7WFudHejd6+e7RmGiAi9e/XkRnc3cr493N6hiIiIiIjIz0C7JVS+O/w9nTper2SKiFw1evfqSaeO1/Pd4e/bOxQREREREbnKtUtCpeSnE/y7zKhFIEXkqnNL35v4d5mRkp9OtHcoIiIiIiJyFWuXhMr3BUV49/HSmikictW55ppr8O7jxfcFRe0dioiIiIiIXMWueEKl+Nhxrjc46ms+InLV6ubWlesNjhQfO97eoYiIiIiIyFXqyidU/lXCLz16XOlqRUTs8kuPHhT/q6S9wxARERERkavUFU2onD5zlrNnz13W0SlZ8X3pc1M8GZVtX7bppBHjSSOmy1C2AJUmjCeNGE+aLms1JmPbPMe2KqettHs8p3NJmBLF/M+bmSpTWcTWeVE89UEul/cpX7publ05e/Ycp8+cbe9QRERERETkKnRFEyqlJ/+Nm+sNV7LKNpTN4sBA+gfOZeNP7R2LFVMRWbsyydiVj7G9Y7lUP21iVmAg/QOXkHXZKilh46xA+gcGsvjrq6GctnIVxHPoCxanZpK4IZsSsP1unsxm/ZpMtr7zBTntFKY93FxvoPTkv9s7DBERERERuQpd0YRKmfEULi7OV7LK/3wnM1kWFcXYqCTy2jsW+e/mP5udyevZtng47mD73XQfztvb1rP5y9kEtF+krebi4kyZ8VR7hyEiIiIiIlehDleystNnztLb85dXssrLx5hN4sp0SvBj1OzBeAIUpLL40xzoHkL0WH+ca7Z9I5jeJ5tl7yeR12kw42ZGEtwpn+QP3mV9NgRETGP6cG8MQOEXS1ifC+53RzL03CZe/WAH+EcQPXE4fg1zUcZsEt9PtXRWs0hcsoTjI2czxMt8uGRfEhuT00kuMBD84COMGh6CT6N8VgkZH60msxT8HpnNEG9L0ftWk7CzBHweZPpwXwyVRvJ2bGL956lknPYm/P5HGDHCH/cOAEay1qwk7Tj41dZfxNYlSeTgTujESAKw3K/uIYz6dREfv7UCU8THLAxrIcHWsN6HIxg91BdnqzfXmJvCuk/TSP/KhE9IEA8+Hklwj/rHE1YmkYU/k2ZG2K7nWDbrNm0i/bN8DL8ezKhJdWXUPBO/RyJx3v4a7+4KYGHig3XXnjeSk7KShKQ8XB6MYNKIEDw7N112+OOPEOpt1e7KEjLWreaLnenkdQ4iJOSRujbWvkOPEOWczqvv7SDgxUSibm5lu2jwfB6ZiGfucpatKKT7qEimjw6yPMNWxmrMJXntJtJ2ZVLiHsSDD0Uw4l7v2lgTv8yB7hA9HDbaeje7ZrNxUzollOBc83vTqnfLndAnH4Ttq0nclIfLXUMYN3Y4Ptb3+TLo0rkTR4v+eXkrERERERGRn6dqi0N5P1Rfbjv+vqf6/Pnzl7WO/a/5VPfu81r139u8mqzqV/v4VPfuM6l6bXF1dXXx+urxfcx17a855avXqnv38anuPX599XHr7Wmzq3/v52P+cx+f6t73P1/93Hir7T5+1b//rMwqfp/qh0dGVN/Sx+qcgAXVfy9vEFJtDHU/r35lPnR4dc31AdX33x9gPu43qXptYeOWHV0dUd27j0/13ctzLHvKqrfMNJf3Utq56urqsuq/vvigpYyg6vuD/CzteK16f3l1dXX18eq14+vX3+T9+u3U6il3m88dn3S8ifbU3NNz1ftfs9Qb8GD1w5Z6b5m0vvqo5fke/3SSuZ1+QdUPP/Jg9R19fKp793mweqmlKee+eq36fut75Pdg9f13N4i1cH31eD/zc/j1w3VlvPrVuXrPZMq0qZZyXqveb9Xm8eMn1XsGve9/t/pgzfuX93H1SMuzv+P+mrL9qscnWR7EuazqRffXHH+kro0zv6guq/cOTa2eYvWMW9WuWnWxjhwZUS/WW377cfXh1sZa+oXlPfar/vXDdbHe/1ZW9bmG739T72ajZ9zad2tc9e9nPlg/9kmbqo83bGobO3/+fPWOv++5zLWIiIiIiMjPhXXu5IpO+amquoCDg0OblVe4YRr9H4gn63RzZ5nIeW8Ut05YTWF7LdaZDqFfHubI14lE9wTykzgelsaR7w+z7UV/wETyF7vrrYGS4/II2w4d5sihNBaGACdXE/eX/Prl9ohgVUYcoQBM5JPvDxM7ADiWRNy8YckseAAAD+5JREFUbEydQoj/237+f3v3HxT1nd9x/MkP+QIruyG6KA00qeg5gZgEM70G6zQwXpRzTjGNmlxErtWjqeLNnWcvZZy7USdXQ5JTp4nRaYjexV8dJXZK5FLU3oHWgjEB6hmovzYxiqcREHeRDV90pX/sgqAgCyoLzesxk8myfPl+3t/vfvaP78vPj/37Kzj4aiq4S1nx1r7b1lqJnzyTicC54krviAKzkvI9QGQm01IM+HQDi7Y7IGEhuz8uY//BMrYviAPHJv5x+y019ab8AObiYo4e+4yNM+x3PvbYJn7yrgNjymoOflxMUVkFu/8uAfN3q3jvsAnUcaoxkewf5bK5uIyiwmKKVqcADtbvrQJq2fnaJk4Daa967/cXv80kvsuaqS4K85ZT4k4ge1cFR4qKOXpwNWmRDvJfK+BcpyOLT8Szvewzjh/rOl2lLGQqB0/6Pt8EwLGO/H0uoI6d/7SKSrdB2hslHN1fzNGSFaRhUrJyA8UuMB21MH0xS94o5Mj+QooO5pMNmHsKKOm8wcxHDuK3lHH82Gcse9Kf6+peXfJSjp682RfN8lVsPWT6VWtdaQGFbuAH+RwpKqToYCEbf7SYdOq4bXPhnvrmrfzuW+VUx67g6MlTHN+/gjTA/N2H/P5i79d8N0JCQvB4btzfRkREREREZEga8G2T7ymzFdOxiedn9RSqmFRvnM/zb1ZBiDHQ1d307RTv9BHrWBLGet8aOz7O+//HfY/mTc4uu56kTZ9GfCgQGses2TMAqK70b+FZV2U5JQDPzWOWtxnip0z1PoR+UHn7WisPT2NuKnDsABUXgWOH2QkYc6bylAHVn+zFBJIy5zDRAoRamZTunfJy+nAlfdtYNpMlLyZgtRgYvXwk1Ye8gUYMNex6ex1r1m2gpM4KmOz8pAawM2nBUpb8dQrGiQLy1+WxZpt3OVvTBMzTOKoAZjB3RlzHtWZM6XyzDlPyEYCVS/+1gTXr1rGmoAYeBKoOUNnp4tJeXsik0QaGpWvhWQvmeD8rawpzMxMBKD7hAFcV5aUAc5jfqf1pqYC7gMqTYCTOYNniTDIecVK8fR1rVm1kp++8LZ5OjaQuJHuyHcNiYHj8uK4epKeneKfnWFPI+L73b0v+179a7UlPMxbg/SU8+/erWLOzhpiZC1nWPnWnH/rSt9K+463dSEhlWko/GxQREREREblHBnQNlZCQYDweD6Gh96bZ+Bfz2R+azbOvbOL5WbD733M7/dakct1cXnq7BqasZv9G30PvEGSNjvG+uCV06Ynp9i2iabHhX4xk57vPTSW3dB/llS4e+3IvJgZZUyZiAKbTO/QhxjKwCwq3t3upupKSTkMgkiYkggXARckv5rJguwOiE0hKSuSxWDvU+IZquJp8I0xsncIbK9ZO66vgdvpCKgfVpebNsCk6kaRou3/3b9jNlzZLDFDjDXQ6zm1g6+lEjm08n+EdGWJPTOCp5ATGwp13OfLnuvxgjY4HajnnNP2r9VsL2bHdYP37BfzHoW2s37eN9YB1+lr+c71vIdo+6l/fMvCzY981j8dDSMjQzp1FREREROT+GNAnBcMwaGnxJxLwX/zsfPa/kYrhG6lSfBngEqW/urswpfLdDL6XkcGiD3wP5421vofYBOJHdj7ShdM3OsZ03ruNi8uqT3eEJ9Wf7gXAmDDWr4dWe2Kyd8RAeSWnfdOczNM1lAFMiKO7R1fr5HTSgcLybZQU10JkJhlPe59axz7uHSFTcqS6o6ZzJ3yP/A/Zu5zP5fQd0ey8622c48enetv/4VqKCgu9/219j1//Zis75iVD3QG2bnfAhFz2f1xM0Za15EzpNFbCHkdSJEAp1Sd975k1lB/o1Mjosb5jprF8h6+Nwl3s+Jet7PhNLmnRvddZUd0+NcXksyOlAEx6xA6jk5gYB1BORUf7p6k5ApBIXDRUfphHpRteyK/gSFEhG1fM4aneGvTnunqq9UT7vCAXlYfKAUgbH+dXrTS7MP4shbk/38WRz05x/OBa0gHXR/2fetOXvhUILS0mRm9DqURERERE5BtpQMdsWCIjaGp2M3z4vd2aI352PvvxjlTJdwDsIf9dMO5iZEpS4kRO522jemUOPzmeSvgfNlEMGD94hqdC6XgALaktYNGzdaSnOCn5pI546LLuRr8VLOElM5NJIVVs2V4LJLBkWvLtx0XafA+dpeT/0iBj/lLSvzWTnNR15JbmsWgJ/PA7dXz42jZMDDJensnY7tqLfob06XinnQDxS2cy0XffrM/MITtuD/kfLOEl6wrmxpSz9a0qIIFl30/FAB778zgorWXnj9O4NO1pnKVV1MUBfqzr0RP71HlkRZay5Zc5LLqew/zYS2x9K49ih0HWlgpWPW54r91xmOIDiUykhq1vlnc6QzLpOQmsf9PBmr/Joi4zGaoK2HmZLsdk/CyZ9asKWPS3Vla9/DSUb2DF5irM5BUc3J3Za53Vb85n3uk5JLlK2bIHIJWZqd5pMxmLU1mzvJTVOTnwcip1H+axxQ3GjBxmJcC5cDtQS8WhDykz4jhXmseWXlv057p6qPW1HBZ9kUp8XSlbPgIiZzA31Q7Ye63V9dFKvr1kD2bCHFblziD+Yrl3RE9kHPHR3P5Zd9c3b8kmeu9bfZtQdq81NbuxREYEtAYRERERERmcBnSEis0ahfMejuLorGOkiu/nuwlTAIzJuezOTcVODYWbN7DzU0h6cTVF/5DiayOR7HdymRQN5sVSik+M5fXXF3cfVvTDpJ+uJL12G+u3l+OKTOSF9e+xJLGbA63PsGT1VKw4KN68gV2VdRAaxwtvF7J8ip1z+/LIfWUTZWYiL7xRyOvTe/o3fytp02f4XscxN7VTY5YUlu94h6xkg8rNy8nN20O1kcKy7Vs7akrKeoflk63grqNkr4Nxr64m525vhiWVVb9dS1ZyHcV5P2Xej/MovpxM1j8Xs2qyAdapLFszAzulrMnOYt4rlaT/bGGXUyRlv8fGFxMxGsvZ8vYmKpLfYeMtGcnYee+xOzcVa80mcrOzyd1cg3VKLrt/nenX2iBZK1cSX7WJ/D01mNHJZG9ezQu+6TfxL66nKDcV+4V9rH5lOfmHTG8/Wj0VK5CUtZZlyVZOv7+ceVnZbLVksiy19zb9ua5ua/15DrbD7bWmsPxfXyM92r9ardNf834nLhSwIjuLBb8o4FJyJnn/lsuk7gZxdNc3b+VH3wokp9OFzRoV6DJERERERGQQCmpra2sDOOX4knEJD9/XxprdX/M/f6jhL5/udVJDv537IJvv7Z1K0T1cM8VsdEGUFWMAxvNU5o3j+Xch7Y0yNs+2Q7ML0/Cj7esmpqebhV5NFy63gTXaj2kLxzbwVxnrOBe3lKLfLyapuzabXbg8BlbrAE+DaHbhau3hOq6buNzcuabrJibGne/jdRNXkwmRVvpzeabLxOjpD33nNnrqR/5+zt2ct9froo6dCyaRWwrZu7y77dxVrXi/E2aYFas/g8166pu3ClTfuoP/PlzBk48napSKiIiIiIgAXbOTAZ/yExERTn1DIyNH+LE4RT/Ez87n6Ox7e04jOoArOVis/q2/GdrDQ7XhRzhwvYr1s1ay5UwNdRikLZ3TfZjiqycgd8Nyh4f3UANrb0WFGr3fx1A/g6ce9BhQ+HNufz/nbs7bn7+7q1rxfif8brenvnmrQPWtHtQ3NBIREa4wRUREREREujXg+97EjrJz/sLF+xaoDHkPJpI0AWIiB7DN87VUh0BMQgrfnb+C5c/1Z78WGcxso739yh4S6EqGjvMXLhI7St8FERERERHp3oBO+Wn3ccVREh75U4UqIjIo1Tc04jhzlr946olAlyIiIiIiIoNI5+xkQBelbTfm4TgcX3yJL8sRERk02tracHzxJWMejgt0KSIiIiIiMogFJFCxjxzBAzYrJ059HojmRUR6dOLU5zxgs2IfOSLQpYiIiIiIyCAWkEAFYPy4Mbi/buHM2dpAlSAi0sWZs7W4v25h/LgxgS5FREREREQGuYAFKgBJj47jq7oGhSoiEnBnztbyVV0DSY+OC3QpIiIiIiIyBAQ0UDHCwnhywqNcbnRy/KRDa6qIyIBra2vj+EkHlxudPDnhUYywsECXJCIiIiIiQ0BAAxXwhioTn0giKCiIIxVHqW9oDHRJIvINUd/QyJGKowQFBTHxiSSFKSIiIiIi4rfQQBfQbvy4MdTVN+A4c5bzFy7yUOxobassIvdFfUMj5y9cpMVsZcwj8VqAVkRERERE+mzQBCrg3f3HPnIEFy5e4mztHzlx6nNGPPgANpuVKEsk4eEGISEhBAUFBbpUERkC2tra8Hg8tLSYNDW7cTpdNFy+QkREOLGj7MSOjgl0iSIiIiIiMkQNqkClXezoGGJHx9Ds/prLjVdouNzI2do/YpomHs8NrbUiIn4JCgoiJCQYwzCwREZgs0YRH/cnWCIjAl2aiIiIiIgMcYMyUGlniYzAEhlB/EOxgS5FRERERERERKRDwBelFREREREREREZahSoiIiIiIiIiIj0kQIVEREREREREZE+UqAiIiIiIiIiItJHClRERERERERERPpIgYqIiIiIiIiISB8pUBERERERERER6SMFKiIiIiIiIiIifaRARURERERERESkjzoCleDgYDweTyBrEREREREREREZlDweD8HBN8eldLwaNiyUa9euB6QoEREREREREZHB7Nq16wwbFtrxc0egEm4YmK2tASlKRERERERERGQwM1tbCTeMjp9vBirhBm53S0CKEhEREREREREZzNzuFsLDuwlUhlsiuNrs1joqIiIiIiIiIiKdeDwerja7GW6J6Hivy6K0NmsUTtfVgBQnIiIiIiIiIjIYOV1XsVmjul+UFsBmG05jo1OjVERERERERERE8I5OaWx0YrMN7/J+l0DFCAvDZoui/vKVAS1ORERERERERGQwqr98BZstCiMsrMv7wbceOHJENKbZitPVNGDFiYiIiIiIiIgMNk5XE6bZysgR0bf97rZABWBUzAjqG67QdLX5vhcnIiIiIiIiIjLYNF1tpr7hCqNiRnT7+6C2tra27n7R0mJy/sIlRo54AJs16r4WKSIiIiIiIiIyWDhdTdQ3XOGh2JguWyV31mOgAmC2tvLVpQYMI4yRDz5ASEjIfStWRERERERERCSQPB4P9ZevYJqtjIoZcdu6KZ3dMVBpV9/QiNPZRHS0DZt1uIIVEREREREREfl/w+Px4HRd9e3mE9Xtmim38itQAe9oFafzKk5XE8MtkURGhmOEhTFsWKgCFhEREREREREZMjweD9euXcdsbcXtbuFqsxubNQqbbfgdR6V05neg0u7GjRtcbf6alhaTFtPk2rXr3Lhxo18XICIiIiIiIiIy0IKDgxk2LJRwwyA83GC4JYLg4G737elRnwMVEREREREREZFvuv8DUmBjG4oN91wAAAAASUVORK5CYII=)"
      ],
      "metadata": {
        "id": "PPPzrhMKlXnI"
      }
    },
    {
      "cell_type": "markdown",
      "source": [
        "## Decision tree"
      ],
      "metadata": {
        "id": "ohLGN_upe8fE"
      }
    },
    {
      "cell_type": "code",
      "source": [
        "# Building a model with Decision Tree Classifier\n",
        "\n",
        "tree_model = DecisionTreeClassifier(max_depth=3)\n",
        "tree_model.fit(train, target)\n",
        "\n",
        "# Checking the model accuracy\n",
        "\n",
        "acc_tree = round(tree_model.score(train, target) * 100, 2)\n",
        "print(\"Acurácia do modelo de Árvore de Decisão: {}\".format(acc_tree))"
      ],
      "metadata": {
        "colab": {
          "base_uri": "https://localhost:8080/"
        },
        "id": "_qlVxyRzexU-",
        "outputId": "ebf40fb8-d723-4e67-f409-5855e85a1ef9"
      },
      "execution_count": 121,
      "outputs": [
        {
          "output_type": "stream",
          "name": "stdout",
          "text": [
            "Acurácia do modelo de Árvore de Decisão: 82.72\n"
          ]
        }
      ]
    },
    {
      "cell_type": "code",
      "source": [
        "y_pred_tree = tree_model.predict(test)\n",
        "\n",
        "submission = pd.DataFrame({\n",
        "    \"PassengerId\": passengerId,\n",
        "    \"Survived\": y_pred_tree\n",
        "})\n",
        "\n",
        "# Saving the csv for kaggle\n",
        "\n",
        "submission.to_csv('./submission_tree.csv', index=False)"
      ],
      "metadata": {
        "id": "teYSMPpjfAOL"
      },
      "execution_count": 122,
      "outputs": []
    },
    {
      "cell_type": "markdown",
      "source": [
        "![image.png](data:image/png;base64,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)"
      ],
      "metadata": {
        "id": "_HLNdbs0lSJz"
      }
    },
    {
      "cell_type": "markdown",
      "source": [
        "# My family would survive the Titanic?"
      ],
      "metadata": {
        "id": "2kZrDvtTfHrQ"
      }
    },
    {
      "cell_type": "code",
      "source": [
        "# Declare variable values for me and my parents\n",
        "\n",
        "me = np.array([2, 0, 24, 1, 1, 32.2, 0, 0, 0, 1]).reshape((1, -1))\n",
        "mom = np.array([2, 1, 53, 1, 1, 32.2, 0, 0, 0, 1]).reshape((1, -1))\n",
        "dad = np.array([2, 0, 52, 1, 1, 32.2, 0, 0, 0, 1]).reshape((1, -1))\n",
        "\n",
        "# Check if we would have survived\n",
        "\n",
        "print(\"me:\\t{}\".format(tree_model.predict(me)[0]))\n",
        "print(\"mom:\\t{}\".format(tree_model.predict(mom)[0]))\n",
        "print(\"dad:\\t{}\".format(tree_model.predict(dad)[0]))"
      ],
      "metadata": {
        "colab": {
          "base_uri": "https://localhost:8080/"
        },
        "id": "fyj_bNsqfDzU",
        "outputId": "d0f17770-fc4c-47f5-c155-9e7667cd6dc8"
      },
      "execution_count": 124,
      "outputs": [
        {
          "output_type": "stream",
          "name": "stdout",
          "text": [
            "me:\t0\n",
            "mom:\t1\n",
            "dad:\t0\n"
          ]
        },
        {
          "output_type": "stream",
          "name": "stderr",
          "text": [
            "/usr/local/lib/python3.7/dist-packages/sklearn/base.py:451: UserWarning: X does not have valid feature names, but DecisionTreeClassifier was fitted with feature names\n",
            "  \"X does not have valid feature names, but\"\n",
            "/usr/local/lib/python3.7/dist-packages/sklearn/base.py:451: UserWarning: X does not have valid feature names, but DecisionTreeClassifier was fitted with feature names\n",
            "  \"X does not have valid feature names, but\"\n",
            "/usr/local/lib/python3.7/dist-packages/sklearn/base.py:451: UserWarning: X does not have valid feature names, but DecisionTreeClassifier was fitted with feature names\n",
            "  \"X does not have valid feature names, but\"\n"
          ]
        }
      ]
    },
    {
      "cell_type": "markdown",
      "source": [
        "Only my mom would have survived titanic due my model 😢"
      ],
      "metadata": {
        "id": "tW2t7jwFkBp0"
      }
    }
  ]
}